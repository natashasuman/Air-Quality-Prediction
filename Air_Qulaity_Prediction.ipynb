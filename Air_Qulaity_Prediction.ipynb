{
  "nbformat": 4,
  "nbformat_minor": 0,
  "metadata": {
    "kernelspec": {
      "display_name": "Python 3",
      "language": "python",
      "name": "python3"
    },
    "language_info": {
      "codemirror_mode": {
        "name": "ipython",
        "version": 3
      },
      "file_extension": ".py",
      "mimetype": "text/x-python",
      "name": "python",
      "nbconvert_exporter": "python",
      "pygments_lexer": "ipython3",
      "version": "3.8.5"
    },
    "colab": {
      "name": "NEWFINAL_FINAL_FINAL.ipynb",
      "provenance": []
    }
  },
  "cells": [
    {
      "cell_type": "code",
      "metadata": {
        "id": "KEeYv-94HVnM"
      },
      "source": [
        "import pandas as pd\n",
        "import numpy as np\n",
        "import matplotlib.pyplot as plt\n",
        "import seaborn as sns\n",
        "%matplotlib inline\n",
        "from sklearn.ensemble import ExtraTreesRegressor\n",
        "from sklearn.model_selection import train_test_split\n",
        "from sklearn.linear_model import LinearRegression\n",
        "from sklearn.model_selection import cross_val_score\n",
        "from sklearn import metrics\n",
        "from sklearn.tree import DecisionTreeRegressor\n",
        "from sklearn.ensemble import RandomForestRegressor\n",
        "from sklearn.neighbors import KNeighborsRegressor\n",
        "from sklearn.linear_model import Ridge, Lasso\n",
        "from sklearn.model_selection import RepeatedKFold\n",
        "from keras.models import Sequential\n",
        "from keras.layers import Dense\n",
        "from keras.layers import LSTM\n",
        "from sklearn.preprocessing import MinMaxScaler\n",
        "from sklearn.preprocessing import LabelEncoder\n",
        "import xgboost as xgb\n",
        "from sklearn.model_selection import KFold\n",
        "from datetime import datetime\n",
        "from pprint import pprint\n",
        "#from sklearn.model_selection import GridSearchCV\n",
        "#from sklearn.model_selection import RandomizedSearchCV\n",
        "from IPython.core.interactiveshell import InteractiveShell\n",
        "InteractiveShell.ast_node_interactivity='all'"
      ],
      "execution_count": null,
      "outputs": []
    },
    {
      "cell_type": "code",
      "metadata": {
        "colab": {
          "base_uri": "https://localhost:8080/",
          "height": 204
        },
        "id": "NeH9PxjwHaFm",
        "outputId": "46c3cc18-68ea-4ee0-e756-a8e97ac6fd07"
      },
      "source": [
        "data=pd.read_csv('/content/drive/MyDrive/Colab Notebooks/Data.csv')\n",
        "data.head()"
      ],
      "execution_count": null,
      "outputs": [
        {
          "output_type": "execute_result",
          "data": {
            "text/html": [
              "<div>\n",
              "<style scoped>\n",
              "    .dataframe tbody tr th:only-of-type {\n",
              "        vertical-align: middle;\n",
              "    }\n",
              "\n",
              "    .dataframe tbody tr th {\n",
              "        vertical-align: top;\n",
              "    }\n",
              "\n",
              "    .dataframe thead th {\n",
              "        text-align: right;\n",
              "    }\n",
              "</style>\n",
              "<table border=\"1\" class=\"dataframe\">\n",
              "  <thead>\n",
              "    <tr style=\"text-align: right;\">\n",
              "      <th></th>\n",
              "      <th>No</th>\n",
              "      <th>year</th>\n",
              "      <th>month</th>\n",
              "      <th>day</th>\n",
              "      <th>hour</th>\n",
              "      <th>PM2.5</th>\n",
              "      <th>PM10</th>\n",
              "      <th>SO2</th>\n",
              "      <th>NO2</th>\n",
              "      <th>CO</th>\n",
              "      <th>O3</th>\n",
              "      <th>TEMP</th>\n",
              "      <th>PRES</th>\n",
              "      <th>DEWP</th>\n",
              "      <th>RAIN</th>\n",
              "      <th>wd</th>\n",
              "      <th>WSPM</th>\n",
              "      <th>station</th>\n",
              "    </tr>\n",
              "  </thead>\n",
              "  <tbody>\n",
              "    <tr>\n",
              "      <th>0</th>\n",
              "      <td>1</td>\n",
              "      <td>2013</td>\n",
              "      <td>3</td>\n",
              "      <td>1</td>\n",
              "      <td>0</td>\n",
              "      <td>4.0</td>\n",
              "      <td>4.0</td>\n",
              "      <td>3.0</td>\n",
              "      <td>NaN</td>\n",
              "      <td>200.0</td>\n",
              "      <td>82.0</td>\n",
              "      <td>-2.3</td>\n",
              "      <td>1020.8</td>\n",
              "      <td>-19.7</td>\n",
              "      <td>0.0</td>\n",
              "      <td>E</td>\n",
              "      <td>0.5</td>\n",
              "      <td>Dingling</td>\n",
              "    </tr>\n",
              "    <tr>\n",
              "      <th>1</th>\n",
              "      <td>2</td>\n",
              "      <td>2013</td>\n",
              "      <td>3</td>\n",
              "      <td>1</td>\n",
              "      <td>1</td>\n",
              "      <td>7.0</td>\n",
              "      <td>7.0</td>\n",
              "      <td>3.0</td>\n",
              "      <td>NaN</td>\n",
              "      <td>200.0</td>\n",
              "      <td>80.0</td>\n",
              "      <td>-2.5</td>\n",
              "      <td>1021.3</td>\n",
              "      <td>-19.0</td>\n",
              "      <td>0.0</td>\n",
              "      <td>ENE</td>\n",
              "      <td>0.7</td>\n",
              "      <td>Dingling</td>\n",
              "    </tr>\n",
              "    <tr>\n",
              "      <th>2</th>\n",
              "      <td>3</td>\n",
              "      <td>2013</td>\n",
              "      <td>3</td>\n",
              "      <td>1</td>\n",
              "      <td>2</td>\n",
              "      <td>5.0</td>\n",
              "      <td>5.0</td>\n",
              "      <td>3.0</td>\n",
              "      <td>2.0</td>\n",
              "      <td>200.0</td>\n",
              "      <td>79.0</td>\n",
              "      <td>-3.0</td>\n",
              "      <td>1021.3</td>\n",
              "      <td>-19.9</td>\n",
              "      <td>0.0</td>\n",
              "      <td>ENE</td>\n",
              "      <td>0.2</td>\n",
              "      <td>Dingling</td>\n",
              "    </tr>\n",
              "    <tr>\n",
              "      <th>3</th>\n",
              "      <td>4</td>\n",
              "      <td>2013</td>\n",
              "      <td>3</td>\n",
              "      <td>1</td>\n",
              "      <td>3</td>\n",
              "      <td>6.0</td>\n",
              "      <td>6.0</td>\n",
              "      <td>3.0</td>\n",
              "      <td>NaN</td>\n",
              "      <td>200.0</td>\n",
              "      <td>79.0</td>\n",
              "      <td>-3.6</td>\n",
              "      <td>1021.8</td>\n",
              "      <td>-19.1</td>\n",
              "      <td>0.0</td>\n",
              "      <td>NNE</td>\n",
              "      <td>1.0</td>\n",
              "      <td>Dingling</td>\n",
              "    </tr>\n",
              "    <tr>\n",
              "      <th>4</th>\n",
              "      <td>5</td>\n",
              "      <td>2013</td>\n",
              "      <td>3</td>\n",
              "      <td>1</td>\n",
              "      <td>4</td>\n",
              "      <td>5.0</td>\n",
              "      <td>5.0</td>\n",
              "      <td>3.0</td>\n",
              "      <td>NaN</td>\n",
              "      <td>200.0</td>\n",
              "      <td>81.0</td>\n",
              "      <td>-3.5</td>\n",
              "      <td>1022.3</td>\n",
              "      <td>-19.4</td>\n",
              "      <td>0.0</td>\n",
              "      <td>N</td>\n",
              "      <td>2.1</td>\n",
              "      <td>Dingling</td>\n",
              "    </tr>\n",
              "  </tbody>\n",
              "</table>\n",
              "</div>"
            ],
            "text/plain": [
              "   No  year  month  day  hour  PM2.5  ...    PRES  DEWP  RAIN   wd  WSPM   station\n",
              "0   1  2013      3    1     0    4.0  ...  1020.8 -19.7   0.0    E   0.5  Dingling\n",
              "1   2  2013      3    1     1    7.0  ...  1021.3 -19.0   0.0  ENE   0.7  Dingling\n",
              "2   3  2013      3    1     2    5.0  ...  1021.3 -19.9   0.0  ENE   0.2  Dingling\n",
              "3   4  2013      3    1     3    6.0  ...  1021.8 -19.1   0.0  NNE   1.0  Dingling\n",
              "4   5  2013      3    1     4    5.0  ...  1022.3 -19.4   0.0    N   2.1  Dingling\n",
              "\n",
              "[5 rows x 18 columns]"
            ]
          },
          "metadata": {
            "tags": []
          },
          "execution_count": 2
        }
      ]
    },
    {
      "cell_type": "code",
      "metadata": {
        "colab": {
          "base_uri": "https://localhost:8080/"
        },
        "id": "Y0qRtubHLoSi",
        "outputId": "3f38bdb7-e117-43f0-e53b-d29d9a6e8654"
      },
      "source": [
        "data.shape"
      ],
      "execution_count": null,
      "outputs": [
        {
          "output_type": "execute_result",
          "data": {
            "text/plain": [
              "(35064, 18)"
            ]
          },
          "metadata": {
            "tags": []
          },
          "execution_count": 3
        }
      ]
    },
    {
      "cell_type": "code",
      "metadata": {
        "colab": {
          "base_uri": "https://localhost:8080/"
        },
        "id": "w4xLnKUqL2hr",
        "outputId": "23fd3354-51df-463b-f99a-882b35b48a16"
      },
      "source": [
        "data.info()"
      ],
      "execution_count": null,
      "outputs": [
        {
          "output_type": "stream",
          "text": [
            "<class 'pandas.core.frame.DataFrame'>\n",
            "RangeIndex: 35064 entries, 0 to 35063\n",
            "Data columns (total 18 columns):\n",
            " #   Column   Non-Null Count  Dtype  \n",
            "---  ------   --------------  -----  \n",
            " 0   No       35064 non-null  int64  \n",
            " 1   year     35064 non-null  int64  \n",
            " 2   month    35064 non-null  int64  \n",
            " 3   day      35064 non-null  int64  \n",
            " 4   hour     35064 non-null  int64  \n",
            " 5   PM2.5    34285 non-null  float64\n",
            " 6   PM10     34408 non-null  float64\n",
            " 7   SO2      34334 non-null  float64\n",
            " 8   NO2      33830 non-null  float64\n",
            " 9   CO       33052 non-null  float64\n",
            " 10  O3       33850 non-null  float64\n",
            " 11  TEMP     35011 non-null  float64\n",
            " 12  PRES     35014 non-null  float64\n",
            " 13  DEWP     35011 non-null  float64\n",
            " 14  RAIN     35013 non-null  float64\n",
            " 15  wd       34924 non-null  object \n",
            " 16  WSPM     35021 non-null  float64\n",
            " 17  station  35064 non-null  object \n",
            "dtypes: float64(11), int64(5), object(2)\n",
            "memory usage: 4.8+ MB\n"
          ],
          "name": "stdout"
        }
      ]
    },
    {
      "cell_type": "code",
      "metadata": {
        "colab": {
          "base_uri": "https://localhost:8080/",
          "height": 545
        },
        "id": "y4JAtWZ2L470",
        "outputId": "d61d7f5b-6173-4041-928a-f6a779cb0c5e"
      },
      "source": [
        "data.describe().T"
      ],
      "execution_count": null,
      "outputs": [
        {
          "output_type": "execute_result",
          "data": {
            "text/html": [
              "<div>\n",
              "<style scoped>\n",
              "    .dataframe tbody tr th:only-of-type {\n",
              "        vertical-align: middle;\n",
              "    }\n",
              "\n",
              "    .dataframe tbody tr th {\n",
              "        vertical-align: top;\n",
              "    }\n",
              "\n",
              "    .dataframe thead th {\n",
              "        text-align: right;\n",
              "    }\n",
              "</style>\n",
              "<table border=\"1\" class=\"dataframe\">\n",
              "  <thead>\n",
              "    <tr style=\"text-align: right;\">\n",
              "      <th></th>\n",
              "      <th>count</th>\n",
              "      <th>mean</th>\n",
              "      <th>std</th>\n",
              "      <th>min</th>\n",
              "      <th>25%</th>\n",
              "      <th>50%</th>\n",
              "      <th>75%</th>\n",
              "      <th>max</th>\n",
              "    </tr>\n",
              "  </thead>\n",
              "  <tbody>\n",
              "    <tr>\n",
              "      <th>No</th>\n",
              "      <td>35064.0</td>\n",
              "      <td>17532.500000</td>\n",
              "      <td>10122.249256</td>\n",
              "      <td>1.0000</td>\n",
              "      <td>8766.75</td>\n",
              "      <td>17532.5</td>\n",
              "      <td>26298.25</td>\n",
              "      <td>35064.0</td>\n",
              "    </tr>\n",
              "    <tr>\n",
              "      <th>year</th>\n",
              "      <td>35064.0</td>\n",
              "      <td>2014.662560</td>\n",
              "      <td>1.177213</td>\n",
              "      <td>2013.0000</td>\n",
              "      <td>2014.00</td>\n",
              "      <td>2015.0</td>\n",
              "      <td>2016.00</td>\n",
              "      <td>2017.0</td>\n",
              "    </tr>\n",
              "    <tr>\n",
              "      <th>month</th>\n",
              "      <td>35064.0</td>\n",
              "      <td>6.522930</td>\n",
              "      <td>3.448752</td>\n",
              "      <td>1.0000</td>\n",
              "      <td>4.00</td>\n",
              "      <td>7.0</td>\n",
              "      <td>10.00</td>\n",
              "      <td>12.0</td>\n",
              "    </tr>\n",
              "    <tr>\n",
              "      <th>day</th>\n",
              "      <td>35064.0</td>\n",
              "      <td>15.729637</td>\n",
              "      <td>8.800218</td>\n",
              "      <td>1.0000</td>\n",
              "      <td>8.00</td>\n",
              "      <td>16.0</td>\n",
              "      <td>23.00</td>\n",
              "      <td>31.0</td>\n",
              "    </tr>\n",
              "    <tr>\n",
              "      <th>hour</th>\n",
              "      <td>35064.0</td>\n",
              "      <td>11.500000</td>\n",
              "      <td>6.922285</td>\n",
              "      <td>0.0000</td>\n",
              "      <td>5.75</td>\n",
              "      <td>11.5</td>\n",
              "      <td>17.25</td>\n",
              "      <td>23.0</td>\n",
              "    </tr>\n",
              "    <tr>\n",
              "      <th>PM2.5</th>\n",
              "      <td>34285.0</td>\n",
              "      <td>65.989497</td>\n",
              "      <td>72.267723</td>\n",
              "      <td>3.0000</td>\n",
              "      <td>14.00</td>\n",
              "      <td>41.0</td>\n",
              "      <td>93.00</td>\n",
              "      <td>881.0</td>\n",
              "    </tr>\n",
              "    <tr>\n",
              "      <th>PM10</th>\n",
              "      <td>34408.0</td>\n",
              "      <td>83.739723</td>\n",
              "      <td>79.541685</td>\n",
              "      <td>2.0000</td>\n",
              "      <td>26.00</td>\n",
              "      <td>60.0</td>\n",
              "      <td>117.00</td>\n",
              "      <td>905.0</td>\n",
              "    </tr>\n",
              "    <tr>\n",
              "      <th>SO2</th>\n",
              "      <td>34334.0</td>\n",
              "      <td>11.749650</td>\n",
              "      <td>15.519259</td>\n",
              "      <td>0.2856</td>\n",
              "      <td>2.00</td>\n",
              "      <td>5.0</td>\n",
              "      <td>15.00</td>\n",
              "      <td>156.0</td>\n",
              "    </tr>\n",
              "    <tr>\n",
              "      <th>NO2</th>\n",
              "      <td>33830.0</td>\n",
              "      <td>27.585467</td>\n",
              "      <td>26.383882</td>\n",
              "      <td>1.0265</td>\n",
              "      <td>9.00</td>\n",
              "      <td>19.0</td>\n",
              "      <td>38.00</td>\n",
              "      <td>205.0</td>\n",
              "    </tr>\n",
              "    <tr>\n",
              "      <th>CO</th>\n",
              "      <td>33052.0</td>\n",
              "      <td>904.896073</td>\n",
              "      <td>903.306220</td>\n",
              "      <td>100.0000</td>\n",
              "      <td>300.00</td>\n",
              "      <td>600.0</td>\n",
              "      <td>1200.00</td>\n",
              "      <td>10000.0</td>\n",
              "    </tr>\n",
              "    <tr>\n",
              "      <th>O3</th>\n",
              "      <td>33850.0</td>\n",
              "      <td>68.548371</td>\n",
              "      <td>53.764424</td>\n",
              "      <td>0.2142</td>\n",
              "      <td>31.00</td>\n",
              "      <td>61.0</td>\n",
              "      <td>90.00</td>\n",
              "      <td>500.0</td>\n",
              "    </tr>\n",
              "    <tr>\n",
              "      <th>TEMP</th>\n",
              "      <td>35011.0</td>\n",
              "      <td>13.686111</td>\n",
              "      <td>11.365313</td>\n",
              "      <td>-16.6000</td>\n",
              "      <td>3.40</td>\n",
              "      <td>14.7</td>\n",
              "      <td>23.30</td>\n",
              "      <td>41.4</td>\n",
              "    </tr>\n",
              "    <tr>\n",
              "      <th>PRES</th>\n",
              "      <td>35014.0</td>\n",
              "      <td>1007.760278</td>\n",
              "      <td>10.225664</td>\n",
              "      <td>982.4000</td>\n",
              "      <td>999.30</td>\n",
              "      <td>1007.4</td>\n",
              "      <td>1016.00</td>\n",
              "      <td>1036.5</td>\n",
              "    </tr>\n",
              "    <tr>\n",
              "      <th>DEWP</th>\n",
              "      <td>35011.0</td>\n",
              "      <td>1.505495</td>\n",
              "      <td>13.822099</td>\n",
              "      <td>-35.1000</td>\n",
              "      <td>-10.20</td>\n",
              "      <td>1.8</td>\n",
              "      <td>14.20</td>\n",
              "      <td>27.2</td>\n",
              "    </tr>\n",
              "    <tr>\n",
              "      <th>RAIN</th>\n",
              "      <td>35013.0</td>\n",
              "      <td>0.060366</td>\n",
              "      <td>0.752899</td>\n",
              "      <td>0.0000</td>\n",
              "      <td>0.00</td>\n",
              "      <td>0.0</td>\n",
              "      <td>0.00</td>\n",
              "      <td>52.1</td>\n",
              "    </tr>\n",
              "    <tr>\n",
              "      <th>WSPM</th>\n",
              "      <td>35021.0</td>\n",
              "      <td>1.853836</td>\n",
              "      <td>1.309808</td>\n",
              "      <td>0.0000</td>\n",
              "      <td>1.00</td>\n",
              "      <td>1.5</td>\n",
              "      <td>2.30</td>\n",
              "      <td>10.0</td>\n",
              "    </tr>\n",
              "  </tbody>\n",
              "</table>\n",
              "</div>"
            ],
            "text/plain": [
              "         count          mean           std  ...      50%       75%      max\n",
              "No     35064.0  17532.500000  10122.249256  ...  17532.5  26298.25  35064.0\n",
              "year   35064.0   2014.662560      1.177213  ...   2015.0   2016.00   2017.0\n",
              "month  35064.0      6.522930      3.448752  ...      7.0     10.00     12.0\n",
              "day    35064.0     15.729637      8.800218  ...     16.0     23.00     31.0\n",
              "hour   35064.0     11.500000      6.922285  ...     11.5     17.25     23.0\n",
              "PM2.5  34285.0     65.989497     72.267723  ...     41.0     93.00    881.0\n",
              "PM10   34408.0     83.739723     79.541685  ...     60.0    117.00    905.0\n",
              "SO2    34334.0     11.749650     15.519259  ...      5.0     15.00    156.0\n",
              "NO2    33830.0     27.585467     26.383882  ...     19.0     38.00    205.0\n",
              "CO     33052.0    904.896073    903.306220  ...    600.0   1200.00  10000.0\n",
              "O3     33850.0     68.548371     53.764424  ...     61.0     90.00    500.0\n",
              "TEMP   35011.0     13.686111     11.365313  ...     14.7     23.30     41.4\n",
              "PRES   35014.0   1007.760278     10.225664  ...   1007.4   1016.00   1036.5\n",
              "DEWP   35011.0      1.505495     13.822099  ...      1.8     14.20     27.2\n",
              "RAIN   35013.0      0.060366      0.752899  ...      0.0      0.00     52.1\n",
              "WSPM   35021.0      1.853836      1.309808  ...      1.5      2.30     10.0\n",
              "\n",
              "[16 rows x 8 columns]"
            ]
          },
          "metadata": {
            "tags": []
          },
          "execution_count": 5
        }
      ]
    },
    {
      "cell_type": "code",
      "metadata": {
        "colab": {
          "base_uri": "https://localhost:8080/"
        },
        "id": "5aW0K089L8Cs",
        "outputId": "93ca24cb-b747-49c2-d4b4-e8d526ae3eca"
      },
      "source": [
        "list(data.columns)"
      ],
      "execution_count": null,
      "outputs": [
        {
          "output_type": "execute_result",
          "data": {
            "text/plain": [
              "['No',\n",
              " 'year',\n",
              " 'month',\n",
              " 'day',\n",
              " 'hour',\n",
              " 'PM2.5',\n",
              " 'PM10',\n",
              " 'SO2',\n",
              " 'NO2',\n",
              " 'CO',\n",
              " 'O3',\n",
              " 'TEMP',\n",
              " 'PRES',\n",
              " 'DEWP',\n",
              " 'RAIN',\n",
              " 'wd',\n",
              " 'WSPM',\n",
              " 'station']"
            ]
          },
          "metadata": {
            "tags": []
          },
          "execution_count": 6
        }
      ]
    },
    {
      "cell_type": "code",
      "metadata": {
        "colab": {
          "base_uri": "https://localhost:8080/"
        },
        "id": "Jy24TCfZMMYM",
        "outputId": "a500ad6c-41a8-4adf-9920-794132441cb4"
      },
      "source": [
        "num_c = data.select_dtypes(include=np.number).columns.tolist()\n",
        "cat_c = data.select_dtypes(include=\"object\").columns.tolist() \n",
        "print(\"List of numerical colums:\",num_c)\n",
        "print(\"List of categorical colums:\",cat_c)"
      ],
      "execution_count": null,
      "outputs": [
        {
          "output_type": "stream",
          "text": [
            "List of numerical colums: ['No', 'year', 'month', 'day', 'hour', 'PM2.5', 'PM10', 'SO2', 'NO2', 'CO', 'O3', 'TEMP', 'PRES', 'DEWP', 'RAIN', 'WSPM']\n",
            "List of categorical colums: ['wd', 'station']\n"
          ],
          "name": "stdout"
        }
      ]
    },
    {
      "cell_type": "code",
      "metadata": {
        "colab": {
          "base_uri": "https://localhost:8080/"
        },
        "id": "hr7kRJzuODEN",
        "outputId": "61e804eb-7c97-430a-dcdd-2e2f0c1927d1"
      },
      "source": [
        "#Checking % of the null values for each features\n",
        "data_percentage=(data.isnull().sum()/35064)*100\n",
        "data_percentage"
      ],
      "execution_count": null,
      "outputs": [
        {
          "output_type": "execute_result",
          "data": {
            "text/plain": [
              "No         0.000000\n",
              "year       0.000000\n",
              "month      0.000000\n",
              "day        0.000000\n",
              "hour       0.000000\n",
              "PM2.5      2.221652\n",
              "PM10       1.870865\n",
              "SO2        2.081907\n",
              "NO2        3.519279\n",
              "CO         5.738079\n",
              "O3         3.462240\n",
              "TEMP       0.151152\n",
              "PRES       0.142596\n",
              "DEWP       0.151152\n",
              "RAIN       0.145448\n",
              "wd         0.399270\n",
              "WSPM       0.122633\n",
              "station    0.000000\n",
              "dtype: float64"
            ]
          },
          "metadata": {
            "tags": []
          },
          "execution_count": 8
        }
      ]
    },
    {
      "cell_type": "code",
      "metadata": {
        "id": "D_UaeUzuOIfn"
      },
      "source": [
        "data['Date'] = pd.to_datetime(data[['year', 'month', 'day']].astype(str).agg('-'.join, axis=1))"
      ],
      "execution_count": null,
      "outputs": []
    },
    {
      "cell_type": "code",
      "metadata": {
        "colab": {
          "base_uri": "https://localhost:8080/",
          "height": 204
        },
        "id": "nEqACdgMOMZ4",
        "outputId": "40f9c0d8-b083-43f1-df66-b39e04abd5be"
      },
      "source": [
        "data.head(5)"
      ],
      "execution_count": null,
      "outputs": [
        {
          "output_type": "execute_result",
          "data": {
            "text/html": [
              "<div>\n",
              "<style scoped>\n",
              "    .dataframe tbody tr th:only-of-type {\n",
              "        vertical-align: middle;\n",
              "    }\n",
              "\n",
              "    .dataframe tbody tr th {\n",
              "        vertical-align: top;\n",
              "    }\n",
              "\n",
              "    .dataframe thead th {\n",
              "        text-align: right;\n",
              "    }\n",
              "</style>\n",
              "<table border=\"1\" class=\"dataframe\">\n",
              "  <thead>\n",
              "    <tr style=\"text-align: right;\">\n",
              "      <th></th>\n",
              "      <th>No</th>\n",
              "      <th>year</th>\n",
              "      <th>month</th>\n",
              "      <th>day</th>\n",
              "      <th>hour</th>\n",
              "      <th>PM2.5</th>\n",
              "      <th>PM10</th>\n",
              "      <th>SO2</th>\n",
              "      <th>NO2</th>\n",
              "      <th>CO</th>\n",
              "      <th>O3</th>\n",
              "      <th>TEMP</th>\n",
              "      <th>PRES</th>\n",
              "      <th>DEWP</th>\n",
              "      <th>RAIN</th>\n",
              "      <th>wd</th>\n",
              "      <th>WSPM</th>\n",
              "      <th>station</th>\n",
              "      <th>Date</th>\n",
              "    </tr>\n",
              "  </thead>\n",
              "  <tbody>\n",
              "    <tr>\n",
              "      <th>0</th>\n",
              "      <td>1</td>\n",
              "      <td>2013</td>\n",
              "      <td>3</td>\n",
              "      <td>1</td>\n",
              "      <td>0</td>\n",
              "      <td>4.0</td>\n",
              "      <td>4.0</td>\n",
              "      <td>3.0</td>\n",
              "      <td>NaN</td>\n",
              "      <td>200.0</td>\n",
              "      <td>82.0</td>\n",
              "      <td>-2.3</td>\n",
              "      <td>1020.8</td>\n",
              "      <td>-19.7</td>\n",
              "      <td>0.0</td>\n",
              "      <td>E</td>\n",
              "      <td>0.5</td>\n",
              "      <td>Dingling</td>\n",
              "      <td>2013-03-01</td>\n",
              "    </tr>\n",
              "    <tr>\n",
              "      <th>1</th>\n",
              "      <td>2</td>\n",
              "      <td>2013</td>\n",
              "      <td>3</td>\n",
              "      <td>1</td>\n",
              "      <td>1</td>\n",
              "      <td>7.0</td>\n",
              "      <td>7.0</td>\n",
              "      <td>3.0</td>\n",
              "      <td>NaN</td>\n",
              "      <td>200.0</td>\n",
              "      <td>80.0</td>\n",
              "      <td>-2.5</td>\n",
              "      <td>1021.3</td>\n",
              "      <td>-19.0</td>\n",
              "      <td>0.0</td>\n",
              "      <td>ENE</td>\n",
              "      <td>0.7</td>\n",
              "      <td>Dingling</td>\n",
              "      <td>2013-03-01</td>\n",
              "    </tr>\n",
              "    <tr>\n",
              "      <th>2</th>\n",
              "      <td>3</td>\n",
              "      <td>2013</td>\n",
              "      <td>3</td>\n",
              "      <td>1</td>\n",
              "      <td>2</td>\n",
              "      <td>5.0</td>\n",
              "      <td>5.0</td>\n",
              "      <td>3.0</td>\n",
              "      <td>2.0</td>\n",
              "      <td>200.0</td>\n",
              "      <td>79.0</td>\n",
              "      <td>-3.0</td>\n",
              "      <td>1021.3</td>\n",
              "      <td>-19.9</td>\n",
              "      <td>0.0</td>\n",
              "      <td>ENE</td>\n",
              "      <td>0.2</td>\n",
              "      <td>Dingling</td>\n",
              "      <td>2013-03-01</td>\n",
              "    </tr>\n",
              "    <tr>\n",
              "      <th>3</th>\n",
              "      <td>4</td>\n",
              "      <td>2013</td>\n",
              "      <td>3</td>\n",
              "      <td>1</td>\n",
              "      <td>3</td>\n",
              "      <td>6.0</td>\n",
              "      <td>6.0</td>\n",
              "      <td>3.0</td>\n",
              "      <td>NaN</td>\n",
              "      <td>200.0</td>\n",
              "      <td>79.0</td>\n",
              "      <td>-3.6</td>\n",
              "      <td>1021.8</td>\n",
              "      <td>-19.1</td>\n",
              "      <td>0.0</td>\n",
              "      <td>NNE</td>\n",
              "      <td>1.0</td>\n",
              "      <td>Dingling</td>\n",
              "      <td>2013-03-01</td>\n",
              "    </tr>\n",
              "    <tr>\n",
              "      <th>4</th>\n",
              "      <td>5</td>\n",
              "      <td>2013</td>\n",
              "      <td>3</td>\n",
              "      <td>1</td>\n",
              "      <td>4</td>\n",
              "      <td>5.0</td>\n",
              "      <td>5.0</td>\n",
              "      <td>3.0</td>\n",
              "      <td>NaN</td>\n",
              "      <td>200.0</td>\n",
              "      <td>81.0</td>\n",
              "      <td>-3.5</td>\n",
              "      <td>1022.3</td>\n",
              "      <td>-19.4</td>\n",
              "      <td>0.0</td>\n",
              "      <td>N</td>\n",
              "      <td>2.1</td>\n",
              "      <td>Dingling</td>\n",
              "      <td>2013-03-01</td>\n",
              "    </tr>\n",
              "  </tbody>\n",
              "</table>\n",
              "</div>"
            ],
            "text/plain": [
              "   No  year  month  day  hour  ...  RAIN   wd  WSPM   station       Date\n",
              "0   1  2013      3    1     0  ...   0.0    E   0.5  Dingling 2013-03-01\n",
              "1   2  2013      3    1     1  ...   0.0  ENE   0.7  Dingling 2013-03-01\n",
              "2   3  2013      3    1     2  ...   0.0  ENE   0.2  Dingling 2013-03-01\n",
              "3   4  2013      3    1     3  ...   0.0  NNE   1.0  Dingling 2013-03-01\n",
              "4   5  2013      3    1     4  ...   0.0    N   2.1  Dingling 2013-03-01\n",
              "\n",
              "[5 rows x 19 columns]"
            ]
          },
          "metadata": {
            "tags": []
          },
          "execution_count": 10
        }
      ]
    },
    {
      "cell_type": "code",
      "metadata": {
        "colab": {
          "base_uri": "https://localhost:8080/",
          "height": 204
        },
        "id": "BYSvHaM1OQyd",
        "outputId": "47a1a6ef-f6f4-4b3f-80d1-e49002e21ebb"
      },
      "source": [
        "filtered_features_data=pd.DataFrame(data,columns={\"year\",\"month\",\"day\",\"hour\",\"PM2.5\",\"PM10\",\"NO2\",\"CO\",\"SO2\",\"O3\",\"TEMP\",\"PRES\",\"RAIN\"})\n",
        "filtered_features_data.head()"
      ],
      "execution_count": null,
      "outputs": [
        {
          "output_type": "execute_result",
          "data": {
            "text/html": [
              "<div>\n",
              "<style scoped>\n",
              "    .dataframe tbody tr th:only-of-type {\n",
              "        vertical-align: middle;\n",
              "    }\n",
              "\n",
              "    .dataframe tbody tr th {\n",
              "        vertical-align: top;\n",
              "    }\n",
              "\n",
              "    .dataframe thead th {\n",
              "        text-align: right;\n",
              "    }\n",
              "</style>\n",
              "<table border=\"1\" class=\"dataframe\">\n",
              "  <thead>\n",
              "    <tr style=\"text-align: right;\">\n",
              "      <th></th>\n",
              "      <th>RAIN</th>\n",
              "      <th>PM2.5</th>\n",
              "      <th>PRES</th>\n",
              "      <th>O3</th>\n",
              "      <th>CO</th>\n",
              "      <th>TEMP</th>\n",
              "      <th>hour</th>\n",
              "      <th>year</th>\n",
              "      <th>SO2</th>\n",
              "      <th>day</th>\n",
              "      <th>NO2</th>\n",
              "      <th>month</th>\n",
              "      <th>PM10</th>\n",
              "    </tr>\n",
              "  </thead>\n",
              "  <tbody>\n",
              "    <tr>\n",
              "      <th>0</th>\n",
              "      <td>0.0</td>\n",
              "      <td>4.0</td>\n",
              "      <td>1020.8</td>\n",
              "      <td>82.0</td>\n",
              "      <td>200.0</td>\n",
              "      <td>-2.3</td>\n",
              "      <td>0</td>\n",
              "      <td>2013</td>\n",
              "      <td>3.0</td>\n",
              "      <td>1</td>\n",
              "      <td>NaN</td>\n",
              "      <td>3</td>\n",
              "      <td>4.0</td>\n",
              "    </tr>\n",
              "    <tr>\n",
              "      <th>1</th>\n",
              "      <td>0.0</td>\n",
              "      <td>7.0</td>\n",
              "      <td>1021.3</td>\n",
              "      <td>80.0</td>\n",
              "      <td>200.0</td>\n",
              "      <td>-2.5</td>\n",
              "      <td>1</td>\n",
              "      <td>2013</td>\n",
              "      <td>3.0</td>\n",
              "      <td>1</td>\n",
              "      <td>NaN</td>\n",
              "      <td>3</td>\n",
              "      <td>7.0</td>\n",
              "    </tr>\n",
              "    <tr>\n",
              "      <th>2</th>\n",
              "      <td>0.0</td>\n",
              "      <td>5.0</td>\n",
              "      <td>1021.3</td>\n",
              "      <td>79.0</td>\n",
              "      <td>200.0</td>\n",
              "      <td>-3.0</td>\n",
              "      <td>2</td>\n",
              "      <td>2013</td>\n",
              "      <td>3.0</td>\n",
              "      <td>1</td>\n",
              "      <td>2.0</td>\n",
              "      <td>3</td>\n",
              "      <td>5.0</td>\n",
              "    </tr>\n",
              "    <tr>\n",
              "      <th>3</th>\n",
              "      <td>0.0</td>\n",
              "      <td>6.0</td>\n",
              "      <td>1021.8</td>\n",
              "      <td>79.0</td>\n",
              "      <td>200.0</td>\n",
              "      <td>-3.6</td>\n",
              "      <td>3</td>\n",
              "      <td>2013</td>\n",
              "      <td>3.0</td>\n",
              "      <td>1</td>\n",
              "      <td>NaN</td>\n",
              "      <td>3</td>\n",
              "      <td>6.0</td>\n",
              "    </tr>\n",
              "    <tr>\n",
              "      <th>4</th>\n",
              "      <td>0.0</td>\n",
              "      <td>5.0</td>\n",
              "      <td>1022.3</td>\n",
              "      <td>81.0</td>\n",
              "      <td>200.0</td>\n",
              "      <td>-3.5</td>\n",
              "      <td>4</td>\n",
              "      <td>2013</td>\n",
              "      <td>3.0</td>\n",
              "      <td>1</td>\n",
              "      <td>NaN</td>\n",
              "      <td>3</td>\n",
              "      <td>5.0</td>\n",
              "    </tr>\n",
              "  </tbody>\n",
              "</table>\n",
              "</div>"
            ],
            "text/plain": [
              "   RAIN  PM2.5    PRES    O3     CO  TEMP  ...  year  SO2  day  NO2  month  PM10\n",
              "0   0.0    4.0  1020.8  82.0  200.0  -2.3  ...  2013  3.0    1  NaN      3   4.0\n",
              "1   0.0    7.0  1021.3  80.0  200.0  -2.5  ...  2013  3.0    1  NaN      3   7.0\n",
              "2   0.0    5.0  1021.3  79.0  200.0  -3.0  ...  2013  3.0    1  2.0      3   5.0\n",
              "3   0.0    6.0  1021.8  79.0  200.0  -3.6  ...  2013  3.0    1  NaN      3   6.0\n",
              "4   0.0    5.0  1022.3  81.0  200.0  -3.5  ...  2013  3.0    1  NaN      3   5.0\n",
              "\n",
              "[5 rows x 13 columns]"
            ]
          },
          "metadata": {
            "tags": []
          },
          "execution_count": 11
        }
      ]
    },
    {
      "cell_type": "code",
      "metadata": {
        "colab": {
          "base_uri": "https://localhost:8080/",
          "height": 609
        },
        "id": "G6yjXWRkOiCL",
        "outputId": "0fcd1d34-9031-45a8-84d1-b8c4811fd84a"
      },
      "source": [
        "plt.figure(2, figsize = [15,10])\n",
        "sns.heatmap(filtered_features_data.isnull(),yticklabels=False,cbar=False,cmap='viridis')"
      ],
      "execution_count": null,
      "outputs": [
        {
          "output_type": "execute_result",
          "data": {
            "text/plain": [
              "<Figure size 1080x720 with 0 Axes>"
            ]
          },
          "metadata": {
            "tags": []
          },
          "execution_count": 12
        },
        {
          "output_type": "execute_result",
          "data": {
            "text/plain": [
              "<matplotlib.axes._subplots.AxesSubplot at 0x7fd96b6e8450>"
            ]
          },
          "metadata": {
            "tags": []
          },
          "execution_count": 12
        },
        {
          "output_type": "display_data",
          "data": {
            "image/png": "[encoded data removed]",
            "text/plain": [
              "<Figure size 1080x720 with 1 Axes>"
            ]
          },
          "metadata": {
            "tags": [],
            "needs_background": "light"
          }
        }
      ]
    },
    {
      "cell_type": "code",
      "metadata": {
        "colab": {
          "base_uri": "https://localhost:8080/",
          "height": 204
        },
        "id": "hPW4-ULLPBtr",
        "outputId": "a668ef87-9b5d-4d34-885c-131e953f2c12"
      },
      "source": [
        "filtered_features_data['PM2.5']=filtered_features_data['PM2.5'].fillna(method='bfill')\n",
        "filtered_features_data['PM10']=filtered_features_data['PM10'].fillna(method='ffill')\n",
        "filtered_features_data['SO2']=filtered_features_data['SO2'].fillna(method='ffill')\n",
        "filtered_features_data['NO2']=filtered_features_data['NO2'].fillna(method='bfill')\n",
        "filtered_features_data['O3']=filtered_features_data['O3'].fillna(method='ffill')\n",
        "filtered_features_data['CO']=filtered_features_data['CO'].fillna(method='ffill')\n",
        "filtered_features_data['RAIN']=filtered_features_data['RAIN'].fillna(method='ffill')\n",
        "filtered_features_data['TEMP']=filtered_features_data['TEMP'].fillna(method='ffill')\n",
        "filtered_features_data['PRES']=filtered_features_data['PRES'].fillna(method='ffill')\n",
        "\n",
        "filtered_features_data.head(5)"
      ],
      "execution_count": null,
      "outputs": [
        {
          "output_type": "execute_result",
          "data": {
            "text/html": [
              "<div>\n",
              "<style scoped>\n",
              "    .dataframe tbody tr th:only-of-type {\n",
              "        vertical-align: middle;\n",
              "    }\n",
              "\n",
              "    .dataframe tbody tr th {\n",
              "        vertical-align: top;\n",
              "    }\n",
              "\n",
              "    .dataframe thead th {\n",
              "        text-align: right;\n",
              "    }\n",
              "</style>\n",
              "<table border=\"1\" class=\"dataframe\">\n",
              "  <thead>\n",
              "    <tr style=\"text-align: right;\">\n",
              "      <th></th>\n",
              "      <th>RAIN</th>\n",
              "      <th>PM2.5</th>\n",
              "      <th>PRES</th>\n",
              "      <th>O3</th>\n",
              "      <th>CO</th>\n",
              "      <th>TEMP</th>\n",
              "      <th>hour</th>\n",
              "      <th>year</th>\n",
              "      <th>SO2</th>\n",
              "      <th>day</th>\n",
              "      <th>NO2</th>\n",
              "      <th>month</th>\n",
              "      <th>PM10</th>\n",
              "    </tr>\n",
              "  </thead>\n",
              "  <tbody>\n",
              "    <tr>\n",
              "      <th>0</th>\n",
              "      <td>0.0</td>\n",
              "      <td>4.0</td>\n",
              "      <td>1020.8</td>\n",
              "      <td>82.0</td>\n",
              "      <td>200.0</td>\n",
              "      <td>-2.3</td>\n",
              "      <td>0</td>\n",
              "      <td>2013</td>\n",
              "      <td>3.0</td>\n",
              "      <td>1</td>\n",
              "      <td>2.0</td>\n",
              "      <td>3</td>\n",
              "      <td>4.0</td>\n",
              "    </tr>\n",
              "    <tr>\n",
              "      <th>1</th>\n",
              "      <td>0.0</td>\n",
              "      <td>7.0</td>\n",
              "      <td>1021.3</td>\n",
              "      <td>80.0</td>\n",
              "      <td>200.0</td>\n",
              "      <td>-2.5</td>\n",
              "      <td>1</td>\n",
              "      <td>2013</td>\n",
              "      <td>3.0</td>\n",
              "      <td>1</td>\n",
              "      <td>2.0</td>\n",
              "      <td>3</td>\n",
              "      <td>7.0</td>\n",
              "    </tr>\n",
              "    <tr>\n",
              "      <th>2</th>\n",
              "      <td>0.0</td>\n",
              "      <td>5.0</td>\n",
              "      <td>1021.3</td>\n",
              "      <td>79.0</td>\n",
              "      <td>200.0</td>\n",
              "      <td>-3.0</td>\n",
              "      <td>2</td>\n",
              "      <td>2013</td>\n",
              "      <td>3.0</td>\n",
              "      <td>1</td>\n",
              "      <td>2.0</td>\n",
              "      <td>3</td>\n",
              "      <td>5.0</td>\n",
              "    </tr>\n",
              "    <tr>\n",
              "      <th>3</th>\n",
              "      <td>0.0</td>\n",
              "      <td>6.0</td>\n",
              "      <td>1021.8</td>\n",
              "      <td>79.0</td>\n",
              "      <td>200.0</td>\n",
              "      <td>-3.6</td>\n",
              "      <td>3</td>\n",
              "      <td>2013</td>\n",
              "      <td>3.0</td>\n",
              "      <td>1</td>\n",
              "      <td>4.0</td>\n",
              "      <td>3</td>\n",
              "      <td>6.0</td>\n",
              "    </tr>\n",
              "    <tr>\n",
              "      <th>4</th>\n",
              "      <td>0.0</td>\n",
              "      <td>5.0</td>\n",
              "      <td>1022.3</td>\n",
              "      <td>81.0</td>\n",
              "      <td>200.0</td>\n",
              "      <td>-3.5</td>\n",
              "      <td>4</td>\n",
              "      <td>2013</td>\n",
              "      <td>3.0</td>\n",
              "      <td>1</td>\n",
              "      <td>4.0</td>\n",
              "      <td>3</td>\n",
              "      <td>5.0</td>\n",
              "    </tr>\n",
              "  </tbody>\n",
              "</table>\n",
              "</div>"
            ],
            "text/plain": [
              "   RAIN  PM2.5    PRES    O3     CO  TEMP  ...  year  SO2  day  NO2  month  PM10\n",
              "0   0.0    4.0  1020.8  82.0  200.0  -2.3  ...  2013  3.0    1  2.0      3   4.0\n",
              "1   0.0    7.0  1021.3  80.0  200.0  -2.5  ...  2013  3.0    1  2.0      3   7.0\n",
              "2   0.0    5.0  1021.3  79.0  200.0  -3.0  ...  2013  3.0    1  2.0      3   5.0\n",
              "3   0.0    6.0  1021.8  79.0  200.0  -3.6  ...  2013  3.0    1  4.0      3   6.0\n",
              "4   0.0    5.0  1022.3  81.0  200.0  -3.5  ...  2013  3.0    1  4.0      3   5.0\n",
              "\n",
              "[5 rows x 13 columns]"
            ]
          },
          "metadata": {
            "tags": []
          },
          "execution_count": 13
        }
      ]
    },
    {
      "cell_type": "code",
      "metadata": {
        "colab": {
          "base_uri": "https://localhost:8080/",
          "height": 613
        },
        "id": "W91z_cLLPMo3",
        "outputId": "a7e7d64f-02e1-4cac-e096-43a02527e2a6"
      },
      "source": [
        "corr_matrix = filtered_features_data.corr()\n",
        "f, ax = plt.subplots(figsize =(15, 10)) \n",
        "sns.heatmap(corr_matrix, ax = ax, cmap =\"YlGnBu\", linewidths = 0.1, annot= True)"
      ],
      "execution_count": null,
      "outputs": [
        {
          "output_type": "execute_result",
          "data": {
            "text/plain": [
              "<matplotlib.axes._subplots.AxesSubplot at 0x7fd91aaf4950>"
            ]
          },
          "metadata": {
            "tags": []
          },
          "execution_count": 14
        },
        {
          "output_type": "display_data",
          "data": {
            "image/png": "[encoded data removed]",
            "text/plain": [
              "<Figure size 1080x720 with 2 Axes>"
            ]
          },
          "metadata": {
            "tags": [],
            "needs_background": "light"
          }
        }
      ]
    },
    {
      "cell_type": "code",
      "metadata": {
        "colab": {
          "base_uri": "https://localhost:8080/",
          "height": 204
        },
        "id": "qWe35F7kPPrV",
        "outputId": "54587551-5f98-44d5-c06b-1136c2f2704f"
      },
      "source": [
        "df_reg=pd.DataFrame(filtered_features_data,columns={'SO2','NO2','O3','PRES','TEMP','CO','PM2.5','RAIN'})\n",
        "df_reg.head()"
      ],
      "execution_count": null,
      "outputs": [
        {
          "output_type": "execute_result",
          "data": {
            "text/html": [
              "<div>\n",
              "<style scoped>\n",
              "    .dataframe tbody tr th:only-of-type {\n",
              "        vertical-align: middle;\n",
              "    }\n",
              "\n",
              "    .dataframe tbody tr th {\n",
              "        vertical-align: top;\n",
              "    }\n",
              "\n",
              "    .dataframe thead th {\n",
              "        text-align: right;\n",
              "    }\n",
              "</style>\n",
              "<table border=\"1\" class=\"dataframe\">\n",
              "  <thead>\n",
              "    <tr style=\"text-align: right;\">\n",
              "      <th></th>\n",
              "      <th>RAIN</th>\n",
              "      <th>PM2.5</th>\n",
              "      <th>PRES</th>\n",
              "      <th>O3</th>\n",
              "      <th>CO</th>\n",
              "      <th>TEMP</th>\n",
              "      <th>SO2</th>\n",
              "      <th>NO2</th>\n",
              "    </tr>\n",
              "  </thead>\n",
              "  <tbody>\n",
              "    <tr>\n",
              "      <th>0</th>\n",
              "      <td>0.0</td>\n",
              "      <td>4.0</td>\n",
              "      <td>1020.8</td>\n",
              "      <td>82.0</td>\n",
              "      <td>200.0</td>\n",
              "      <td>-2.3</td>\n",
              "      <td>3.0</td>\n",
              "      <td>2.0</td>\n",
              "    </tr>\n",
              "    <tr>\n",
              "      <th>1</th>\n",
              "      <td>0.0</td>\n",
              "      <td>7.0</td>\n",
              "      <td>1021.3</td>\n",
              "      <td>80.0</td>\n",
              "      <td>200.0</td>\n",
              "      <td>-2.5</td>\n",
              "      <td>3.0</td>\n",
              "      <td>2.0</td>\n",
              "    </tr>\n",
              "    <tr>\n",
              "      <th>2</th>\n",
              "      <td>0.0</td>\n",
              "      <td>5.0</td>\n",
              "      <td>1021.3</td>\n",
              "      <td>79.0</td>\n",
              "      <td>200.0</td>\n",
              "      <td>-3.0</td>\n",
              "      <td>3.0</td>\n",
              "      <td>2.0</td>\n",
              "    </tr>\n",
              "    <tr>\n",
              "      <th>3</th>\n",
              "      <td>0.0</td>\n",
              "      <td>6.0</td>\n",
              "      <td>1021.8</td>\n",
              "      <td>79.0</td>\n",
              "      <td>200.0</td>\n",
              "      <td>-3.6</td>\n",
              "      <td>3.0</td>\n",
              "      <td>4.0</td>\n",
              "    </tr>\n",
              "    <tr>\n",
              "      <th>4</th>\n",
              "      <td>0.0</td>\n",
              "      <td>5.0</td>\n",
              "      <td>1022.3</td>\n",
              "      <td>81.0</td>\n",
              "      <td>200.0</td>\n",
              "      <td>-3.5</td>\n",
              "      <td>3.0</td>\n",
              "      <td>4.0</td>\n",
              "    </tr>\n",
              "  </tbody>\n",
              "</table>\n",
              "</div>"
            ],
            "text/plain": [
              "   RAIN  PM2.5    PRES    O3     CO  TEMP  SO2  NO2\n",
              "0   0.0    4.0  1020.8  82.0  200.0  -2.3  3.0  2.0\n",
              "1   0.0    7.0  1021.3  80.0  200.0  -2.5  3.0  2.0\n",
              "2   0.0    5.0  1021.3  79.0  200.0  -3.0  3.0  2.0\n",
              "3   0.0    6.0  1021.8  79.0  200.0  -3.6  3.0  4.0\n",
              "4   0.0    5.0  1022.3  81.0  200.0  -3.5  3.0  4.0"
            ]
          },
          "metadata": {
            "tags": []
          },
          "execution_count": 15
        }
      ]
    },
    {
      "cell_type": "code",
      "metadata": {
        "colab": {
          "base_uri": "https://localhost:8080/"
        },
        "id": "yaM2DiZlRAsn",
        "outputId": "bc3ab464-e665-49ad-9b70-6ddba00db04c"
      },
      "source": [
        "data_percentage=(filtered_features_data.isnull().sum()/35064)*100\n",
        "data_percentage"
      ],
      "execution_count": null,
      "outputs": [
        {
          "output_type": "execute_result",
          "data": {
            "text/plain": [
              "RAIN     0.0\n",
              "PM2.5    0.0\n",
              "PRES     0.0\n",
              "O3       0.0\n",
              "CO       0.0\n",
              "TEMP     0.0\n",
              "hour     0.0\n",
              "year     0.0\n",
              "SO2      0.0\n",
              "day      0.0\n",
              "NO2      0.0\n",
              "month    0.0\n",
              "PM10     0.0\n",
              "dtype: float64"
            ]
          },
          "metadata": {
            "tags": []
          },
          "execution_count": 16
        }
      ]
    },
    {
      "cell_type": "code",
      "metadata": {
        "id": "TzJApK4qRLua"
      },
      "source": [
        "X=pd.DataFrame(df_reg,columns={'SO2','NO2','O3','PRES','TEMP','CO','RAIN',})\n",
        "Y=pd.DataFrame(df_reg,columns={'PM2.5'})      "
      ],
      "execution_count": null,
      "outputs": []
    },
    {
      "cell_type": "code",
      "metadata": {
        "colab": {
          "base_uri": "https://localhost:8080/"
        },
        "id": "F19P93-zRlGp",
        "outputId": "3538897b-62f5-4850-a342-9bff4252832a"
      },
      "source": [
        "#handling overfitting and improve accuracy\n",
        "model=ExtraTreesRegressor()\n",
        "model.fit(X,Y.values.ravel())"
      ],
      "execution_count": null,
      "outputs": [
        {
          "output_type": "execute_result",
          "data": {
            "text/plain": [
              "ExtraTreesRegressor(bootstrap=False, ccp_alpha=0.0, criterion='mse',\n",
              "                    max_depth=None, max_features='auto', max_leaf_nodes=None,\n",
              "                    max_samples=None, min_impurity_decrease=0.0,\n",
              "                    min_impurity_split=None, min_samples_leaf=1,\n",
              "                    min_samples_split=2, min_weight_fraction_leaf=0.0,\n",
              "                    n_estimators=100, n_jobs=None, oob_score=False,\n",
              "                    random_state=None, verbose=0, warm_start=False)"
            ]
          },
          "metadata": {
            "tags": []
          },
          "execution_count": 18
        }
      ]
    },
    {
      "cell_type": "code",
      "metadata": {
        "colab": {
          "base_uri": "https://localhost:8080/"
        },
        "id": "qSwKApu-Roj0",
        "outputId": "d54ae9b9-dfe2-4414-b985-c0b8936cc4d9"
      },
      "source": [
        "print(model.feature_importances_)"
      ],
      "execution_count": null,
      "outputs": [
        {
          "output_type": "stream",
          "text": [
            "[0.00542795 0.07469856 0.06752346 0.37780976 0.060375   0.07332457\n",
            " 0.34084071]\n"
          ],
          "name": "stdout"
        }
      ]
    },
    {
      "cell_type": "code",
      "metadata": {
        "colab": {
          "base_uri": "https://localhost:8080/",
          "height": 609
        },
        "id": "gYe7P6MiRsm2",
        "outputId": "db5ec048-af90-4b04-894c-990e5bb0e680"
      },
      "source": [
        "plt.figure(2, figsize = [15,10])\n",
        "feat_importances = pd.Series(model.feature_importances_, index=X.columns).sort_values()\n",
        "feat_importances.plot(kind='barh')\n",
        "plt.show()"
      ],
      "execution_count": null,
      "outputs": [
        {
          "output_type": "execute_result",
          "data": {
            "text/plain": [
              "<Figure size 1080x720 with 0 Axes>"
            ]
          },
          "metadata": {
            "tags": []
          },
          "execution_count": 20
        },
        {
          "output_type": "execute_result",
          "data": {
            "text/plain": [
              "<matplotlib.axes._subplots.AxesSubplot at 0x7fd91ad471d0>"
            ]
          },
          "metadata": {
            "tags": []
          },
          "execution_count": 20
        },
        {
          "output_type": "display_data",
          "data": {
            "image/png": "[encoded data removed]",
            "text/plain": [
              "<Figure size 1080x720 with 1 Axes>"
            ]
          },
          "metadata": {
            "tags": [],
            "needs_background": "light"
          }
        }
      ]
    },
    {
      "cell_type": "code",
      "metadata": {
        "id": "elREbI0GSMfT"
      },
      "source": [
        "X_train, X_test, Y_train, Y_test = train_test_split(X, Y, test_size=0.3, random_state=0)"
      ],
      "execution_count": null,
      "outputs": []
    },
    {
      "cell_type": "code",
      "metadata": {
        "colab": {
          "base_uri": "https://localhost:8080/",
          "height": 204
        },
        "id": "Lu3j1af_Sslp",
        "outputId": "a5828033-6fd3-4bd7-a29e-7d2109e2a4eb"
      },
      "source": [
        "Y_test1=Y_test.copy()\n",
        "Y_test1=Y_test1.reset_index()\n",
        "Y_test2=pd.DataFrame(Y_test1,columns={\"PM2.5\"})\n",
        "Y_test2.head()"
      ],
      "execution_count": null,
      "outputs": [
        {
          "output_type": "execute_result",
          "data": {
            "text/html": [
              "<div>\n",
              "<style scoped>\n",
              "    .dataframe tbody tr th:only-of-type {\n",
              "        vertical-align: middle;\n",
              "    }\n",
              "\n",
              "    .dataframe tbody tr th {\n",
              "        vertical-align: top;\n",
              "    }\n",
              "\n",
              "    .dataframe thead th {\n",
              "        text-align: right;\n",
              "    }\n",
              "</style>\n",
              "<table border=\"1\" class=\"dataframe\">\n",
              "  <thead>\n",
              "    <tr style=\"text-align: right;\">\n",
              "      <th></th>\n",
              "      <th>PM2.5</th>\n",
              "    </tr>\n",
              "  </thead>\n",
              "  <tbody>\n",
              "    <tr>\n",
              "      <th>0</th>\n",
              "      <td>52.0</td>\n",
              "    </tr>\n",
              "    <tr>\n",
              "      <th>1</th>\n",
              "      <td>91.0</td>\n",
              "    </tr>\n",
              "    <tr>\n",
              "      <th>2</th>\n",
              "      <td>37.0</td>\n",
              "    </tr>\n",
              "    <tr>\n",
              "      <th>3</th>\n",
              "      <td>17.0</td>\n",
              "    </tr>\n",
              "    <tr>\n",
              "      <th>4</th>\n",
              "      <td>31.0</td>\n",
              "    </tr>\n",
              "  </tbody>\n",
              "</table>\n",
              "</div>"
            ],
            "text/plain": [
              "   PM2.5\n",
              "0   52.0\n",
              "1   91.0\n",
              "2   37.0\n",
              "3   17.0\n",
              "4   31.0"
            ]
          },
          "metadata": {
            "tags": []
          },
          "execution_count": 22
        }
      ]
    },
    {
      "cell_type": "markdown",
      "metadata": {
        "id": "vbzXTZLATGb8"
      },
      "source": [
        "#**Linear Regression**"
      ]
    },
    {
      "cell_type": "code",
      "metadata": {
        "colab": {
          "base_uri": "https://localhost:8080/"
        },
        "id": "9vZ_RRnOS_Hf",
        "outputId": "e2e8d504-ee10-4b9f-906f-43f6d3030c17"
      },
      "source": [
        "lregressor=LinearRegression()\n",
        "lregressor.fit(X_train,Y_train)"
      ],
      "execution_count": null,
      "outputs": [
        {
          "output_type": "execute_result",
          "data": {
            "text/plain": [
              "LinearRegression(copy_X=True, fit_intercept=True, n_jobs=None, normalize=False)"
            ]
          },
          "metadata": {
            "tags": []
          },
          "execution_count": 23
        }
      ]
    },
    {
      "cell_type": "code",
      "metadata": {
        "colab": {
          "base_uri": "https://localhost:8080/"
        },
        "id": "DCrFwVKqTZB_",
        "outputId": "4f328cd6-9341-4cf2-d1a1-03cbf7d0addf"
      },
      "source": [
        "lregressor.coef_"
      ],
      "execution_count": null,
      "outputs": [
        {
          "output_type": "execute_result",
          "data": {
            "text/plain": [
              "array([[-0.3852512 , -0.75681046,  0.12672134,  0.04381426,  0.18666783,\n",
              "         0.19745476,  0.95224771]])"
            ]
          },
          "metadata": {
            "tags": []
          },
          "execution_count": 24
        }
      ]
    },
    {
      "cell_type": "code",
      "metadata": {
        "colab": {
          "base_uri": "https://localhost:8080/"
        },
        "id": "BLUecYCqTcDj",
        "outputId": "ca44fb4e-720e-43b5-a08f-cd16e1b53e61"
      },
      "source": [
        "lregressor.intercept_"
      ],
      "execution_count": null,
      "outputs": [
        {
          "output_type": "execute_result",
          "data": {
            "text/plain": [
              "array([748.54802901])"
            ]
          },
          "metadata": {
            "tags": []
          },
          "execution_count": 25
        }
      ]
    },
    {
      "cell_type": "code",
      "metadata": {
        "id": "guiJXZBlTd1G"
      },
      "source": [
        "prediction=lregressor.predict(X_test)"
      ],
      "execution_count": null,
      "outputs": []
    },
    {
      "cell_type": "code",
      "metadata": {
        "colab": {
          "base_uri": "https://localhost:8080/",
          "height": 204
        },
        "id": "aRR-whrrTfs9",
        "outputId": "f8b8ad60-2b5a-4195-b5c6-1bcf39a06852"
      },
      "source": [
        "data_prediction=pd.DataFrame(prediction,columns={\"Predicted_PM 2.5\"})\n",
        "data_prediction.head()"
      ],
      "execution_count": null,
      "outputs": [
        {
          "output_type": "execute_result",
          "data": {
            "text/html": [
              "<div>\n",
              "<style scoped>\n",
              "    .dataframe tbody tr th:only-of-type {\n",
              "        vertical-align: middle;\n",
              "    }\n",
              "\n",
              "    .dataframe tbody tr th {\n",
              "        vertical-align: top;\n",
              "    }\n",
              "\n",
              "    .dataframe thead th {\n",
              "        text-align: right;\n",
              "    }\n",
              "</style>\n",
              "<table border=\"1\" class=\"dataframe\">\n",
              "  <thead>\n",
              "    <tr style=\"text-align: right;\">\n",
              "      <th></th>\n",
              "      <th>Predicted_PM 2.5</th>\n",
              "    </tr>\n",
              "  </thead>\n",
              "  <tbody>\n",
              "    <tr>\n",
              "      <th>0</th>\n",
              "      <td>36.613079</td>\n",
              "    </tr>\n",
              "    <tr>\n",
              "      <th>1</th>\n",
              "      <td>96.237889</td>\n",
              "    </tr>\n",
              "    <tr>\n",
              "      <th>2</th>\n",
              "      <td>49.661073</td>\n",
              "    </tr>\n",
              "    <tr>\n",
              "      <th>3</th>\n",
              "      <td>24.319407</td>\n",
              "    </tr>\n",
              "    <tr>\n",
              "      <th>4</th>\n",
              "      <td>52.596610</td>\n",
              "    </tr>\n",
              "  </tbody>\n",
              "</table>\n",
              "</div>"
            ],
            "text/plain": [
              "   Predicted_PM 2.5\n",
              "0         36.613079\n",
              "1         96.237889\n",
              "2         49.661073\n",
              "3         24.319407\n",
              "4         52.596610"
            ]
          },
          "metadata": {
            "tags": []
          },
          "execution_count": 27
        }
      ]
    },
    {
      "cell_type": "code",
      "metadata": {
        "colab": {
          "base_uri": "https://localhost:8080/",
          "height": 204
        },
        "id": "IPL2u8VaTkaF",
        "outputId": "45b93088-6717-4610-908f-f440e552b67d"
      },
      "source": [
        "df_row_merged = pd.concat([Y_test2,data_prediction],axis=1)\n",
        "df_row_merged.head(5)"
      ],
      "execution_count": null,
      "outputs": [
        {
          "output_type": "execute_result",
          "data": {
            "text/html": [
              "<div>\n",
              "<style scoped>\n",
              "    .dataframe tbody tr th:only-of-type {\n",
              "        vertical-align: middle;\n",
              "    }\n",
              "\n",
              "    .dataframe tbody tr th {\n",
              "        vertical-align: top;\n",
              "    }\n",
              "\n",
              "    .dataframe thead th {\n",
              "        text-align: right;\n",
              "    }\n",
              "</style>\n",
              "<table border=\"1\" class=\"dataframe\">\n",
              "  <thead>\n",
              "    <tr style=\"text-align: right;\">\n",
              "      <th></th>\n",
              "      <th>PM2.5</th>\n",
              "      <th>Predicted_PM 2.5</th>\n",
              "    </tr>\n",
              "  </thead>\n",
              "  <tbody>\n",
              "    <tr>\n",
              "      <th>0</th>\n",
              "      <td>52.0</td>\n",
              "      <td>36.613079</td>\n",
              "    </tr>\n",
              "    <tr>\n",
              "      <th>1</th>\n",
              "      <td>91.0</td>\n",
              "      <td>96.237889</td>\n",
              "    </tr>\n",
              "    <tr>\n",
              "      <th>2</th>\n",
              "      <td>37.0</td>\n",
              "      <td>49.661073</td>\n",
              "    </tr>\n",
              "    <tr>\n",
              "      <th>3</th>\n",
              "      <td>17.0</td>\n",
              "      <td>24.319407</td>\n",
              "    </tr>\n",
              "    <tr>\n",
              "      <th>4</th>\n",
              "      <td>31.0</td>\n",
              "      <td>52.596610</td>\n",
              "    </tr>\n",
              "  </tbody>\n",
              "</table>\n",
              "</div>"
            ],
            "text/plain": [
              "   PM2.5  Predicted_PM 2.5\n",
              "0   52.0         36.613079\n",
              "1   91.0         96.237889\n",
              "2   37.0         49.661073\n",
              "3   17.0         24.319407\n",
              "4   31.0         52.596610"
            ]
          },
          "metadata": {
            "tags": []
          },
          "execution_count": 28
        }
      ]
    },
    {
      "cell_type": "code",
      "metadata": {
        "colab": {
          "base_uri": "https://localhost:8080/"
        },
        "id": "Feiyf2NdUCKk",
        "outputId": "ccd167aa-ddaa-44c6-91bc-be03bbfce8a2"
      },
      "source": [
        "print(\"Coefficient of determination R^2 <-- on train set: {}\".format(lregressor.score(X_train, Y_train)))"
      ],
      "execution_count": null,
      "outputs": [
        {
          "output_type": "stream",
          "text": [
            "Coefficient of determination R^2 <-- on train set: 0.6835893422080143\n"
          ],
          "name": "stdout"
        }
      ]
    },
    {
      "cell_type": "code",
      "metadata": {
        "colab": {
          "base_uri": "https://localhost:8080/"
        },
        "id": "Bpl9vMiHUcXr",
        "outputId": "2ff07f34-24fb-4ac3-a2b4-c7bf9abe582d"
      },
      "source": [
        "print(\"Coefficient of determination R^2 <-- on test set: {}\".format(lregressor.score(X_test, Y_test)))"
      ],
      "execution_count": null,
      "outputs": [
        {
          "output_type": "stream",
          "text": [
            "Coefficient of determination R^2 <-- on test set: 0.6600870409237314\n"
          ],
          "name": "stdout"
        }
      ]
    },
    {
      "cell_type": "code",
      "metadata": {
        "colab": {
          "base_uri": "https://localhost:8080/"
        },
        "id": "05U9cezUUh35",
        "outputId": "bb1caae7-d491-42b2-c6fa-0817c0e7a245"
      },
      "source": [
        "print('MAE:', metrics.mean_absolute_error(Y_test, prediction))\n",
        "print('MSE:', metrics.mean_squared_error(Y_test, prediction))\n",
        "print('RMSE:', np.sqrt(metrics.mean_squared_error(Y_test, prediction)))"
      ],
      "execution_count": null,
      "outputs": [
        {
          "output_type": "stream",
          "text": [
            "MAE: 27.134731035880616\n",
            "MSE: 1785.4038941921397\n",
            "RMSE: 42.25403997480169\n"
          ],
          "name": "stdout"
        }
      ]
    },
    {
      "cell_type": "markdown",
      "metadata": {
        "id": "xLseGVdFVMmP"
      },
      "source": [
        "# **K-Nearest Neigbour**"
      ]
    },
    {
      "cell_type": "code",
      "metadata": {
        "colab": {
          "base_uri": "https://localhost:8080/"
        },
        "id": "_AwOWZrEUoO8",
        "outputId": "01d048fb-8cb3-4b9b-d628-35ed990bb7d5"
      },
      "source": [
        "kregressor=KNeighborsRegressor(n_neighbors=6)\n",
        "kregressor.fit(X_train,Y_train)"
      ],
      "execution_count": null,
      "outputs": [
        {
          "output_type": "execute_result",
          "data": {
            "text/plain": [
              "KNeighborsRegressor(algorithm='auto', leaf_size=30, metric='minkowski',\n",
              "                    metric_params=None, n_jobs=None, n_neighbors=6, p=2,\n",
              "                    weights='uniform')"
            ]
          },
          "metadata": {
            "tags": []
          },
          "execution_count": 32
        }
      ]
    },
    {
      "cell_type": "code",
      "metadata": {
        "id": "gmS3jDmxVY84"
      },
      "source": [
        "knn_prediction=kregressor.predict(X_test)"
      ],
      "execution_count": null,
      "outputs": []
    },
    {
      "cell_type": "code",
      "metadata": {
        "colab": {
          "base_uri": "https://localhost:8080/",
          "height": 204
        },
        "id": "j1iECspVVcvl",
        "outputId": "758bf241-93fd-4915-8a46-42e8e3828a65"
      },
      "source": [
        "knn_prediction=pd.DataFrame(knn_prediction,columns={\"Predicted_PM 2.5\"})\n",
        "knn_prediction.head()"
      ],
      "execution_count": null,
      "outputs": [
        {
          "output_type": "execute_result",
          "data": {
            "text/html": [
              "<div>\n",
              "<style scoped>\n",
              "    .dataframe tbody tr th:only-of-type {\n",
              "        vertical-align: middle;\n",
              "    }\n",
              "\n",
              "    .dataframe tbody tr th {\n",
              "        vertical-align: top;\n",
              "    }\n",
              "\n",
              "    .dataframe thead th {\n",
              "        text-align: right;\n",
              "    }\n",
              "</style>\n",
              "<table border=\"1\" class=\"dataframe\">\n",
              "  <thead>\n",
              "    <tr style=\"text-align: right;\">\n",
              "      <th></th>\n",
              "      <th>Predicted_PM 2.5</th>\n",
              "    </tr>\n",
              "  </thead>\n",
              "  <tbody>\n",
              "    <tr>\n",
              "      <th>0</th>\n",
              "      <td>40.666667</td>\n",
              "    </tr>\n",
              "    <tr>\n",
              "      <th>1</th>\n",
              "      <td>95.833333</td>\n",
              "    </tr>\n",
              "    <tr>\n",
              "      <th>2</th>\n",
              "      <td>47.666667</td>\n",
              "    </tr>\n",
              "    <tr>\n",
              "      <th>3</th>\n",
              "      <td>12.333333</td>\n",
              "    </tr>\n",
              "    <tr>\n",
              "      <th>4</th>\n",
              "      <td>38.000000</td>\n",
              "    </tr>\n",
              "  </tbody>\n",
              "</table>\n",
              "</div>"
            ],
            "text/plain": [
              "   Predicted_PM 2.5\n",
              "0         40.666667\n",
              "1         95.833333\n",
              "2         47.666667\n",
              "3         12.333333\n",
              "4         38.000000"
            ]
          },
          "metadata": {
            "tags": []
          },
          "execution_count": 34
        }
      ]
    },
    {
      "cell_type": "code",
      "metadata": {
        "colab": {
          "base_uri": "https://localhost:8080/",
          "height": 204
        },
        "id": "i2lqIrufVfeS",
        "outputId": "4b05c9b8-9ebc-4e96-86a5-1b2c0c98a86d"
      },
      "source": [
        "df_row_merged_knn = pd.concat([Y_test2,knn_prediction],axis=1)\n",
        "df_row_merged_knn.head(5)"
      ],
      "execution_count": null,
      "outputs": [
        {
          "output_type": "execute_result",
          "data": {
            "text/html": [
              "<div>\n",
              "<style scoped>\n",
              "    .dataframe tbody tr th:only-of-type {\n",
              "        vertical-align: middle;\n",
              "    }\n",
              "\n",
              "    .dataframe tbody tr th {\n",
              "        vertical-align: top;\n",
              "    }\n",
              "\n",
              "    .dataframe thead th {\n",
              "        text-align: right;\n",
              "    }\n",
              "</style>\n",
              "<table border=\"1\" class=\"dataframe\">\n",
              "  <thead>\n",
              "    <tr style=\"text-align: right;\">\n",
              "      <th></th>\n",
              "      <th>PM2.5</th>\n",
              "      <th>Predicted_PM 2.5</th>\n",
              "    </tr>\n",
              "  </thead>\n",
              "  <tbody>\n",
              "    <tr>\n",
              "      <th>0</th>\n",
              "      <td>52.0</td>\n",
              "      <td>40.666667</td>\n",
              "    </tr>\n",
              "    <tr>\n",
              "      <th>1</th>\n",
              "      <td>91.0</td>\n",
              "      <td>95.833333</td>\n",
              "    </tr>\n",
              "    <tr>\n",
              "      <th>2</th>\n",
              "      <td>37.0</td>\n",
              "      <td>47.666667</td>\n",
              "    </tr>\n",
              "    <tr>\n",
              "      <th>3</th>\n",
              "      <td>17.0</td>\n",
              "      <td>12.333333</td>\n",
              "    </tr>\n",
              "    <tr>\n",
              "      <th>4</th>\n",
              "      <td>31.0</td>\n",
              "      <td>38.000000</td>\n",
              "    </tr>\n",
              "  </tbody>\n",
              "</table>\n",
              "</div>"
            ],
            "text/plain": [
              "   PM2.5  Predicted_PM 2.5\n",
              "0   52.0         40.666667\n",
              "1   91.0         95.833333\n",
              "2   37.0         47.666667\n",
              "3   17.0         12.333333\n",
              "4   31.0         38.000000"
            ]
          },
          "metadata": {
            "tags": []
          },
          "execution_count": 35
        }
      ]
    },
    {
      "cell_type": "code",
      "metadata": {
        "colab": {
          "base_uri": "https://localhost:8080/"
        },
        "id": "HN0jkMkhViw4",
        "outputId": "164c3c0c-9269-46f7-f024-b9b88f2701d5"
      },
      "source": [
        "print(\"Coefficient of determination R^2 <-- on train set: {}\".format(kregressor.score(X_train, Y_train)))"
      ],
      "execution_count": null,
      "outputs": [
        {
          "output_type": "stream",
          "text": [
            "Coefficient of determination R^2 <-- on train set: 0.8384375889163983\n"
          ],
          "name": "stdout"
        }
      ]
    },
    {
      "cell_type": "code",
      "metadata": {
        "colab": {
          "base_uri": "https://localhost:8080/"
        },
        "id": "OS2xSCPgWvHZ",
        "outputId": "0ece15c3-2d8f-4191-9eae-5b8727e7187e"
      },
      "source": [
        "print(\"Coefficient of determination R^2 <-- on test set: {}\".format(kregressor.score(X_test, Y_test)))"
      ],
      "execution_count": null,
      "outputs": [
        {
          "output_type": "stream",
          "text": [
            "Coefficient of determination R^2 <-- on test set: 0.7391085467948861\n"
          ],
          "name": "stdout"
        }
      ]
    },
    {
      "cell_type": "code",
      "metadata": {
        "colab": {
          "base_uri": "https://localhost:8080/"
        },
        "id": "g1ExGjWVWy2m",
        "outputId": "d25cacf2-c39f-43bf-968f-76b108701f8b"
      },
      "source": [
        "print('MAE:', metrics.mean_absolute_error(Y_test, knn_prediction))\n",
        "print('MSE:', metrics.mean_squared_error(Y_test, knn_prediction))\n",
        "print('RMSE:', np.sqrt(metrics.mean_squared_error(Y_test, knn_prediction)))"
      ],
      "execution_count": null,
      "outputs": [
        {
          "output_type": "stream",
          "text": [
            "MAE: 21.57333174904943\n",
            "MSE: 1370.3408595532321\n",
            "RMSE: 37.01811528904777\n"
          ],
          "name": "stdout"
        }
      ]
    },
    {
      "cell_type": "markdown",
      "metadata": {
        "id": "LoJbYqqdU7o-"
      },
      "source": [
        "# **Decision Tree**"
      ]
    },
    {
      "cell_type": "code",
      "metadata": {
        "colab": {
          "base_uri": "https://localhost:8080/"
        },
        "id": "lAIGtiWAW52y",
        "outputId": "e1db7f30-0ec3-428c-b5a0-03f3b00cefa2"
      },
      "source": [
        "dtree=DecisionTreeRegressor(criterion='mse')\n",
        "dtree.fit(X_train,Y_train)"
      ],
      "execution_count": null,
      "outputs": [
        {
          "output_type": "execute_result",
          "data": {
            "text/plain": [
              "DecisionTreeRegressor(ccp_alpha=0.0, criterion='mse', max_depth=None,\n",
              "                      max_features=None, max_leaf_nodes=None,\n",
              "                      min_impurity_decrease=0.0, min_impurity_split=None,\n",
              "                      min_samples_leaf=1, min_samples_split=2,\n",
              "                      min_weight_fraction_leaf=0.0, presort='deprecated',\n",
              "                      random_state=None, splitter='best')"
            ]
          },
          "metadata": {
            "tags": []
          },
          "execution_count": 39
        }
      ]
    },
    {
      "cell_type": "code",
      "metadata": {
        "colab": {
          "base_uri": "https://localhost:8080/"
        },
        "id": "PDVKnvORXzbD",
        "outputId": "c7974736-6954-4e82-c8a1-252f5a7e82eb"
      },
      "source": [
        "dtreePrediction=dtree.predict(X_test)\n",
        "dtreePrediction"
      ],
      "execution_count": null,
      "outputs": [
        {
          "output_type": "execute_result",
          "data": {
            "text/plain": [
              "array([28., 79., 51., ...,  8., 55., 60.])"
            ]
          },
          "metadata": {
            "tags": []
          },
          "execution_count": 40
        }
      ]
    },
    {
      "cell_type": "code",
      "metadata": {
        "colab": {
          "base_uri": "https://localhost:8080/",
          "height": 204
        },
        "id": "ERXCBwoYX28O",
        "outputId": "2e662b2f-f61b-4b00-d3ca-67db8cbaecef"
      },
      "source": [
        "dtreePrediction_data=pd.DataFrame(dtreePrediction,columns={\"Predicted_PM 2.5\"})\n",
        "dtreePrediction_data.head()"
      ],
      "execution_count": null,
      "outputs": [
        {
          "output_type": "execute_result",
          "data": {
            "text/html": [
              "<div>\n",
              "<style scoped>\n",
              "    .dataframe tbody tr th:only-of-type {\n",
              "        vertical-align: middle;\n",
              "    }\n",
              "\n",
              "    .dataframe tbody tr th {\n",
              "        vertical-align: top;\n",
              "    }\n",
              "\n",
              "    .dataframe thead th {\n",
              "        text-align: right;\n",
              "    }\n",
              "</style>\n",
              "<table border=\"1\" class=\"dataframe\">\n",
              "  <thead>\n",
              "    <tr style=\"text-align: right;\">\n",
              "      <th></th>\n",
              "      <th>Predicted_PM 2.5</th>\n",
              "    </tr>\n",
              "  </thead>\n",
              "  <tbody>\n",
              "    <tr>\n",
              "      <th>0</th>\n",
              "      <td>28.0</td>\n",
              "    </tr>\n",
              "    <tr>\n",
              "      <th>1</th>\n",
              "      <td>79.0</td>\n",
              "    </tr>\n",
              "    <tr>\n",
              "      <th>2</th>\n",
              "      <td>51.0</td>\n",
              "    </tr>\n",
              "    <tr>\n",
              "      <th>3</th>\n",
              "      <td>27.0</td>\n",
              "    </tr>\n",
              "    <tr>\n",
              "      <th>4</th>\n",
              "      <td>52.0</td>\n",
              "    </tr>\n",
              "  </tbody>\n",
              "</table>\n",
              "</div>"
            ],
            "text/plain": [
              "   Predicted_PM 2.5\n",
              "0              28.0\n",
              "1              79.0\n",
              "2              51.0\n",
              "3              27.0\n",
              "4              52.0"
            ]
          },
          "metadata": {
            "tags": []
          },
          "execution_count": 41
        }
      ]
    },
    {
      "cell_type": "code",
      "metadata": {
        "colab": {
          "base_uri": "https://localhost:8080/",
          "height": 204
        },
        "id": "Wzn_9O1MX41g",
        "outputId": "768efb85-54bf-4ab5-99b5-2f339a00a446"
      },
      "source": [
        "df_row_merged_dtree = pd.concat([dtreePrediction_data,Y_test2],axis=1)\n",
        "df_row_merged_dtree.head()"
      ],
      "execution_count": null,
      "outputs": [
        {
          "output_type": "execute_result",
          "data": {
            "text/html": [
              "<div>\n",
              "<style scoped>\n",
              "    .dataframe tbody tr th:only-of-type {\n",
              "        vertical-align: middle;\n",
              "    }\n",
              "\n",
              "    .dataframe tbody tr th {\n",
              "        vertical-align: top;\n",
              "    }\n",
              "\n",
              "    .dataframe thead th {\n",
              "        text-align: right;\n",
              "    }\n",
              "</style>\n",
              "<table border=\"1\" class=\"dataframe\">\n",
              "  <thead>\n",
              "    <tr style=\"text-align: right;\">\n",
              "      <th></th>\n",
              "      <th>Predicted_PM 2.5</th>\n",
              "      <th>PM2.5</th>\n",
              "    </tr>\n",
              "  </thead>\n",
              "  <tbody>\n",
              "    <tr>\n",
              "      <th>0</th>\n",
              "      <td>28.0</td>\n",
              "      <td>52.0</td>\n",
              "    </tr>\n",
              "    <tr>\n",
              "      <th>1</th>\n",
              "      <td>79.0</td>\n",
              "      <td>91.0</td>\n",
              "    </tr>\n",
              "    <tr>\n",
              "      <th>2</th>\n",
              "      <td>51.0</td>\n",
              "      <td>37.0</td>\n",
              "    </tr>\n",
              "    <tr>\n",
              "      <th>3</th>\n",
              "      <td>27.0</td>\n",
              "      <td>17.0</td>\n",
              "    </tr>\n",
              "    <tr>\n",
              "      <th>4</th>\n",
              "      <td>52.0</td>\n",
              "      <td>31.0</td>\n",
              "    </tr>\n",
              "  </tbody>\n",
              "</table>\n",
              "</div>"
            ],
            "text/plain": [
              "   Predicted_PM 2.5  PM2.5\n",
              "0              28.0   52.0\n",
              "1              79.0   91.0\n",
              "2              51.0   37.0\n",
              "3              27.0   17.0\n",
              "4              52.0   31.0"
            ]
          },
          "metadata": {
            "tags": []
          },
          "execution_count": 42
        }
      ]
    },
    {
      "cell_type": "code",
      "metadata": {
        "colab": {
          "base_uri": "https://localhost:8080/"
        },
        "id": "zbUz3POpX8To",
        "outputId": "dc214090-2044-4476-e93f-306a13499530"
      },
      "source": [
        "print(\"Coefficient of determination R^2 <-- on train set: {}\".format(dtree.score(X_train, Y_train)))"
      ],
      "execution_count": null,
      "outputs": [
        {
          "output_type": "stream",
          "text": [
            "Coefficient of determination R^2 <-- on train set: 0.9999998238727992\n"
          ],
          "name": "stdout"
        }
      ]
    },
    {
      "cell_type": "code",
      "metadata": {
        "colab": {
          "base_uri": "https://localhost:8080/"
        },
        "id": "K6tDgbUlYAF4",
        "outputId": "71f1c992-2a16-443c-fc23-ed3ccf9ef1e0"
      },
      "source": [
        "print(\"Coefficient of determination R^2 <-- on test set: {}\".format(dtree.score(X_test, Y_test)))"
      ],
      "execution_count": null,
      "outputs": [
        {
          "output_type": "stream",
          "text": [
            "Coefficient of determination R^2 <-- on test set: 0.6732848906262623\n"
          ],
          "name": "stdout"
        }
      ]
    },
    {
      "cell_type": "code",
      "metadata": {
        "colab": {
          "base_uri": "https://localhost:8080/"
        },
        "id": "k5tOFBAzYEmS",
        "outputId": "923cba75-a720-47ef-a062-b8fd7b591b35"
      },
      "source": [
        "print('MAE:', metrics.mean_absolute_error(Y_test, dtreePrediction))\n",
        "print('MSE:', metrics.mean_squared_error(Y_test, dtreePrediction))\n",
        "print('RMSE:', np.sqrt(metrics.mean_squared_error(Y_test, dtreePrediction)))"
      ],
      "execution_count": null,
      "outputs": [
        {
          "output_type": "stream",
          "text": [
            "MAE: 22.33851711026616\n",
            "MSE: 1716.0817585551333\n",
            "RMSE: 41.425617177721485\n"
          ],
          "name": "stdout"
        }
      ]
    },
    {
      "cell_type": "markdown",
      "metadata": {
        "id": "2sNwotMlkGKR"
      },
      "source": [
        "# **L1 and L2 Regularization**"
      ]
    },
    {
      "cell_type": "code",
      "metadata": {
        "id": "vDEGEDIRkFym"
      },
      "source": [
        "l1_model = Lasso(alpha=1.0)"
      ],
      "execution_count": null,
      "outputs": []
    },
    {
      "cell_type": "code",
      "metadata": {
        "id": "P487-PtkkUtU"
      },
      "source": [
        "cv = RepeatedKFold(n_splits=10, n_repeats=3, random_state=0)"
      ],
      "execution_count": null,
      "outputs": []
    },
    {
      "cell_type": "code",
      "metadata": {
        "colab": {
          "base_uri": "https://localhost:8080/"
        },
        "id": "XYktTeExkVlv",
        "outputId": "770b8f8b-a379-4434-87fb-c1fb1d2cd8c0"
      },
      "source": [
        "l1_model.fit(X_train, Y_train)"
      ],
      "execution_count": null,
      "outputs": [
        {
          "output_type": "execute_result",
          "data": {
            "text/plain": [
              "Lasso(alpha=1.0, copy_X=True, fit_intercept=True, max_iter=1000,\n",
              "      normalize=False, positive=False, precompute=False, random_state=None,\n",
              "      selection='cyclic', tol=0.0001, warm_start=False)"
            ]
          },
          "metadata": {
            "tags": []
          },
          "execution_count": 48
        }
      ]
    },
    {
      "cell_type": "code",
      "metadata": {
        "id": "W8jqeW3AkViR"
      },
      "source": [
        "predictl1 = l1_model.predict(X_test)"
      ],
      "execution_count": null,
      "outputs": []
    },
    {
      "cell_type": "code",
      "metadata": {
        "colab": {
          "base_uri": "https://localhost:8080/",
          "height": 204
        },
        "id": "6vXqesdhkUjl",
        "outputId": "30353c32-3bb7-4a21-9a0e-9cdba358cc4d"
      },
      "source": [
        "predictl1_data=pd.DataFrame(predictl1,columns={\"Predicted_PM 2.5\"})\n",
        "predictl1_data.head()"
      ],
      "execution_count": null,
      "outputs": [
        {
          "output_type": "execute_result",
          "data": {
            "text/html": [
              "<div>\n",
              "<style scoped>\n",
              "    .dataframe tbody tr th:only-of-type {\n",
              "        vertical-align: middle;\n",
              "    }\n",
              "\n",
              "    .dataframe tbody tr th {\n",
              "        vertical-align: top;\n",
              "    }\n",
              "\n",
              "    .dataframe thead th {\n",
              "        text-align: right;\n",
              "    }\n",
              "</style>\n",
              "<table border=\"1\" class=\"dataframe\">\n",
              "  <thead>\n",
              "    <tr style=\"text-align: right;\">\n",
              "      <th></th>\n",
              "      <th>Predicted_PM 2.5</th>\n",
              "    </tr>\n",
              "  </thead>\n",
              "  <tbody>\n",
              "    <tr>\n",
              "      <th>0</th>\n",
              "      <td>36.451536</td>\n",
              "    </tr>\n",
              "    <tr>\n",
              "      <th>1</th>\n",
              "      <td>96.423147</td>\n",
              "    </tr>\n",
              "    <tr>\n",
              "      <th>2</th>\n",
              "      <td>49.928476</td>\n",
              "    </tr>\n",
              "    <tr>\n",
              "      <th>3</th>\n",
              "      <td>24.092337</td>\n",
              "    </tr>\n",
              "    <tr>\n",
              "      <th>4</th>\n",
              "      <td>52.644779</td>\n",
              "    </tr>\n",
              "  </tbody>\n",
              "</table>\n",
              "</div>"
            ],
            "text/plain": [
              "   Predicted_PM 2.5\n",
              "0         36.451536\n",
              "1         96.423147\n",
              "2         49.928476\n",
              "3         24.092337\n",
              "4         52.644779"
            ]
          },
          "metadata": {
            "tags": []
          },
          "execution_count": 50
        }
      ]
    },
    {
      "cell_type": "code",
      "metadata": {
        "colab": {
          "base_uri": "https://localhost:8080/",
          "height": 204
        },
        "id": "7piBuQHJkUbo",
        "outputId": "3a4d6012-be85-4f17-855e-a34ef006238b"
      },
      "source": [
        "df_row_merged_L1 = pd.concat([predictl1_data,Y_test2],axis=1)\n",
        "df_row_merged_L1.head()"
      ],
      "execution_count": null,
      "outputs": [
        {
          "output_type": "execute_result",
          "data": {
            "text/html": [
              "<div>\n",
              "<style scoped>\n",
              "    .dataframe tbody tr th:only-of-type {\n",
              "        vertical-align: middle;\n",
              "    }\n",
              "\n",
              "    .dataframe tbody tr th {\n",
              "        vertical-align: top;\n",
              "    }\n",
              "\n",
              "    .dataframe thead th {\n",
              "        text-align: right;\n",
              "    }\n",
              "</style>\n",
              "<table border=\"1\" class=\"dataframe\">\n",
              "  <thead>\n",
              "    <tr style=\"text-align: right;\">\n",
              "      <th></th>\n",
              "      <th>Predicted_PM 2.5</th>\n",
              "      <th>PM2.5</th>\n",
              "    </tr>\n",
              "  </thead>\n",
              "  <tbody>\n",
              "    <tr>\n",
              "      <th>0</th>\n",
              "      <td>36.451536</td>\n",
              "      <td>52.0</td>\n",
              "    </tr>\n",
              "    <tr>\n",
              "      <th>1</th>\n",
              "      <td>96.423147</td>\n",
              "      <td>91.0</td>\n",
              "    </tr>\n",
              "    <tr>\n",
              "      <th>2</th>\n",
              "      <td>49.928476</td>\n",
              "      <td>37.0</td>\n",
              "    </tr>\n",
              "    <tr>\n",
              "      <th>3</th>\n",
              "      <td>24.092337</td>\n",
              "      <td>17.0</td>\n",
              "    </tr>\n",
              "    <tr>\n",
              "      <th>4</th>\n",
              "      <td>52.644779</td>\n",
              "      <td>31.0</td>\n",
              "    </tr>\n",
              "  </tbody>\n",
              "</table>\n",
              "</div>"
            ],
            "text/plain": [
              "   Predicted_PM 2.5  PM2.5\n",
              "0         36.451536   52.0\n",
              "1         96.423147   91.0\n",
              "2         49.928476   37.0\n",
              "3         24.092337   17.0\n",
              "4         52.644779   31.0"
            ]
          },
          "metadata": {
            "tags": []
          },
          "execution_count": 51
        }
      ]
    },
    {
      "cell_type": "code",
      "metadata": {
        "colab": {
          "base_uri": "https://localhost:8080/"
        },
        "id": "NBBDTUlylCPz",
        "outputId": "ddbfa2b5-f45a-4dfb-f7cf-06c16cb9af2d"
      },
      "source": [
        "print('MAE:', metrics.mean_absolute_error(Y_test, predictl1))\n",
        "print('MSE:', metrics.mean_squared_error(Y_test, predictl1))\n",
        "print('RMSE:', np.sqrt(metrics.mean_squared_error(Y_test, predictl1)))"
      ],
      "execution_count": null,
      "outputs": [
        {
          "output_type": "stream",
          "text": [
            "MAE: 27.11141001480958\n",
            "MSE: 1785.6842841498255\n",
            "RMSE: 42.25735775163688\n"
          ],
          "name": "stdout"
        }
      ]
    },
    {
      "cell_type": "code",
      "metadata": {
        "id": "aVen9sKslCMb"
      },
      "source": [
        "modell2 = Ridge(alpha=1.0)"
      ],
      "execution_count": null,
      "outputs": []
    },
    {
      "cell_type": "code",
      "metadata": {
        "colab": {
          "base_uri": "https://localhost:8080/"
        },
        "id": "ltKltEQvlCH0",
        "outputId": "10cf99aa-0f75-435a-e2d7-31b7e0b8024e"
      },
      "source": [
        "modell2.fit(X_train, Y_train)"
      ],
      "execution_count": null,
      "outputs": [
        {
          "output_type": "execute_result",
          "data": {
            "text/plain": [
              "Ridge(alpha=1.0, copy_X=True, fit_intercept=True, max_iter=None,\n",
              "      normalize=False, random_state=None, solver='auto', tol=0.001)"
            ]
          },
          "metadata": {
            "tags": []
          },
          "execution_count": 54
        }
      ]
    },
    {
      "cell_type": "code",
      "metadata": {
        "id": "BiJKnHLPlB4C"
      },
      "source": [
        "predictr = modell2.predict(X_test)"
      ],
      "execution_count": null,
      "outputs": []
    },
    {
      "cell_type": "code",
      "metadata": {
        "colab": {
          "base_uri": "https://localhost:8080/"
        },
        "id": "lRRKUwqVlAw-",
        "outputId": "a93b21ba-7462-41f6-f99d-3df7278826d2"
      },
      "source": [
        "print('MAE:', metrics.mean_absolute_error(Y_test, predictr))\n",
        "print('MSE:', metrics.mean_squared_error(Y_test, predictr))\n",
        "print('RMSE:', np.sqrt(metrics.mean_squared_error(Y_test, predictr)))"
      ],
      "execution_count": null,
      "outputs": [
        {
          "output_type": "stream",
          "text": [
            "MAE: 27.134730640897306\n",
            "MSE: 1785.4039141202807\n",
            "RMSE: 42.25404021061514\n"
          ],
          "name": "stdout"
        }
      ]
    },
    {
      "cell_type": "markdown",
      "metadata": {
        "id": "m4lNigOCYXIy"
      },
      "source": [
        "# **Random Forest**"
      ]
    },
    {
      "cell_type": "code",
      "metadata": {
        "colab": {
          "base_uri": "https://localhost:8080/"
        },
        "id": "AdhBf7bwYOcR",
        "outputId": "41dcd508-11fc-4c41-81ea-58c8bb33c7c7"
      },
      "source": [
        "randomforest=RandomForestRegressor()\n",
        "randomforest.fit(X_train,Y_train.values.ravel())"
      ],
      "execution_count": null,
      "outputs": [
        {
          "output_type": "execute_result",
          "data": {
            "text/plain": [
              "RandomForestRegressor(bootstrap=True, ccp_alpha=0.0, criterion='mse',\n",
              "                      max_depth=None, max_features='auto', max_leaf_nodes=None,\n",
              "                      max_samples=None, min_impurity_decrease=0.0,\n",
              "                      min_impurity_split=None, min_samples_leaf=1,\n",
              "                      min_samples_split=2, min_weight_fraction_leaf=0.0,\n",
              "                      n_estimators=100, n_jobs=None, oob_score=False,\n",
              "                      random_state=None, verbose=0, warm_start=False)"
            ]
          },
          "metadata": {
            "tags": []
          },
          "execution_count": 57
        }
      ]
    },
    {
      "cell_type": "code",
      "metadata": {
        "colab": {
          "base_uri": "https://localhost:8080/",
          "height": 204
        },
        "id": "q3zcZMAhYaq6",
        "outputId": "1aec36cf-34c9-4cbe-9a64-aad2871fff77"
      },
      "source": [
        "randomforest_prediction=randomforest.predict(X_test)\n",
        "randomforest_prediction_data=pd.DataFrame(randomforest_prediction,columns={\"Predicted_PM 2.5\"})\n",
        "randomforest_prediction_data.head()"
      ],
      "execution_count": null,
      "outputs": [
        {
          "output_type": "execute_result",
          "data": {
            "text/html": [
              "<div>\n",
              "<style scoped>\n",
              "    .dataframe tbody tr th:only-of-type {\n",
              "        vertical-align: middle;\n",
              "    }\n",
              "\n",
              "    .dataframe tbody tr th {\n",
              "        vertical-align: top;\n",
              "    }\n",
              "\n",
              "    .dataframe thead th {\n",
              "        text-align: right;\n",
              "    }\n",
              "</style>\n",
              "<table border=\"1\" class=\"dataframe\">\n",
              "  <thead>\n",
              "    <tr style=\"text-align: right;\">\n",
              "      <th></th>\n",
              "      <th>Predicted_PM 2.5</th>\n",
              "    </tr>\n",
              "  </thead>\n",
              "  <tbody>\n",
              "    <tr>\n",
              "      <th>0</th>\n",
              "      <td>36.97</td>\n",
              "    </tr>\n",
              "    <tr>\n",
              "      <th>1</th>\n",
              "      <td>83.55</td>\n",
              "    </tr>\n",
              "    <tr>\n",
              "      <th>2</th>\n",
              "      <td>48.58</td>\n",
              "    </tr>\n",
              "    <tr>\n",
              "      <th>3</th>\n",
              "      <td>17.82</td>\n",
              "    </tr>\n",
              "    <tr>\n",
              "      <th>4</th>\n",
              "      <td>41.19</td>\n",
              "    </tr>\n",
              "  </tbody>\n",
              "</table>\n",
              "</div>"
            ],
            "text/plain": [
              "   Predicted_PM 2.5\n",
              "0             36.97\n",
              "1             83.55\n",
              "2             48.58\n",
              "3             17.82\n",
              "4             41.19"
            ]
          },
          "metadata": {
            "tags": []
          },
          "execution_count": 58
        }
      ]
    },
    {
      "cell_type": "code",
      "metadata": {
        "colab": {
          "base_uri": "https://localhost:8080/",
          "height": 204
        },
        "id": "3g6pLRVWYeRT",
        "outputId": "ebe14577-3153-4a47-8bf2-bb4252ce7718"
      },
      "source": [
        "df_row_merged_randomforest = pd.concat([Y_test2,randomforest_prediction_data],axis=1)\n",
        "df_row_merged_randomforest.tail()"
      ],
      "execution_count": null,
      "outputs": [
        {
          "output_type": "execute_result",
          "data": {
            "text/html": [
              "<div>\n",
              "<style scoped>\n",
              "    .dataframe tbody tr th:only-of-type {\n",
              "        vertical-align: middle;\n",
              "    }\n",
              "\n",
              "    .dataframe tbody tr th {\n",
              "        vertical-align: top;\n",
              "    }\n",
              "\n",
              "    .dataframe thead th {\n",
              "        text-align: right;\n",
              "    }\n",
              "</style>\n",
              "<table border=\"1\" class=\"dataframe\">\n",
              "  <thead>\n",
              "    <tr style=\"text-align: right;\">\n",
              "      <th></th>\n",
              "      <th>PM2.5</th>\n",
              "      <th>Predicted_PM 2.5</th>\n",
              "    </tr>\n",
              "  </thead>\n",
              "  <tbody>\n",
              "    <tr>\n",
              "      <th>10515</th>\n",
              "      <td>132.0</td>\n",
              "      <td>133.02</td>\n",
              "    </tr>\n",
              "    <tr>\n",
              "      <th>10516</th>\n",
              "      <td>7.0</td>\n",
              "      <td>13.34</td>\n",
              "    </tr>\n",
              "    <tr>\n",
              "      <th>10517</th>\n",
              "      <td>12.0</td>\n",
              "      <td>15.69</td>\n",
              "    </tr>\n",
              "    <tr>\n",
              "      <th>10518</th>\n",
              "      <td>87.0</td>\n",
              "      <td>105.01</td>\n",
              "    </tr>\n",
              "    <tr>\n",
              "      <th>10519</th>\n",
              "      <td>27.0</td>\n",
              "      <td>71.19</td>\n",
              "    </tr>\n",
              "  </tbody>\n",
              "</table>\n",
              "</div>"
            ],
            "text/plain": [
              "       PM2.5  Predicted_PM 2.5\n",
              "10515  132.0            133.02\n",
              "10516    7.0             13.34\n",
              "10517   12.0             15.69\n",
              "10518   87.0            105.01\n",
              "10519   27.0             71.19"
            ]
          },
          "metadata": {
            "tags": []
          },
          "execution_count": 59
        }
      ]
    },
    {
      "cell_type": "code",
      "metadata": {
        "colab": {
          "base_uri": "https://localhost:8080/"
        },
        "id": "GeqHt9a1YhwQ",
        "outputId": "24ac4caf-ee07-434f-b52b-2ca84e63cb48"
      },
      "source": [
        "print(\"Coefficient of determination R^2 <-- on train set: {}\".format(randomforest.score(X_train, Y_train)))"
      ],
      "execution_count": null,
      "outputs": [
        {
          "output_type": "stream",
          "text": [
            "Coefficient of determination R^2 <-- on train set: 0.9799058123859626\n"
          ],
          "name": "stdout"
        }
      ]
    },
    {
      "cell_type": "code",
      "metadata": {
        "colab": {
          "base_uri": "https://localhost:8080/"
        },
        "id": "f1Hlf7RBYtQS",
        "outputId": "d9cca3a8-c83d-4ee7-f292-1a35e5588daf"
      },
      "source": [
        "print(\"Coefficient of determination R^2 <-- on train set: {}\".format(randomforest.score(X_test, Y_test)))"
      ],
      "execution_count": null,
      "outputs": [
        {
          "output_type": "stream",
          "text": [
            "Coefficient of determination R^2 <-- on train set: 0.8370627737414597\n"
          ],
          "name": "stdout"
        }
      ]
    },
    {
      "cell_type": "code",
      "metadata": {
        "colab": {
          "base_uri": "https://localhost:8080/"
        },
        "id": "it35g0NTYvbl",
        "outputId": "11d6cae2-dab3-4dac-edc9-7ca68ad30451"
      },
      "source": [
        "print('MAE:', metrics.mean_absolute_error(Y_test, randomforest_prediction))\n",
        "print('MSE:', metrics.mean_squared_error(Y_test, randomforest_prediction))\n",
        "print('RMSE:', np.sqrt(metrics.mean_squared_error(Y_test, randomforest_prediction)))"
      ],
      "execution_count": null,
      "outputs": [
        {
          "output_type": "stream",
          "text": [
            "MAE: 16.999354906753574\n",
            "MSE: 855.8330905106526\n",
            "RMSE: 29.254625113144975\n"
          ],
          "name": "stdout"
        }
      ]
    },
    {
      "cell_type": "code",
      "metadata": {
        "colab": {
          "base_uri": "https://localhost:8080/"
        },
        "id": "fpQrZDDiY9W4",
        "outputId": "f088cb46-b55a-4dac-c5ee-567101c9f73b"
      },
      "source": [
        "print('Parameters currently in use:\\n')\n",
        "pprint(randomforest.get_params())"
      ],
      "execution_count": null,
      "outputs": [
        {
          "output_type": "stream",
          "text": [
            "Parameters currently in use:\n",
            "\n",
            "{'bootstrap': True,\n",
            " 'ccp_alpha': 0.0,\n",
            " 'criterion': 'mse',\n",
            " 'max_depth': None,\n",
            " 'max_features': 'auto',\n",
            " 'max_leaf_nodes': None,\n",
            " 'max_samples': None,\n",
            " 'min_impurity_decrease': 0.0,\n",
            " 'min_impurity_split': None,\n",
            " 'min_samples_leaf': 1,\n",
            " 'min_samples_split': 2,\n",
            " 'min_weight_fraction_leaf': 0.0,\n",
            " 'n_estimators': 100,\n",
            " 'n_jobs': None,\n",
            " 'oob_score': False,\n",
            " 'random_state': None,\n",
            " 'verbose': 0,\n",
            " 'warm_start': False}\n"
          ],
          "name": "stdout"
        }
      ]
    },
    {
      "cell_type": "markdown",
      "metadata": {
        "id": "fx2X_xDLZs1-"
      },
      "source": [
        "# **Hyper Parameter Optimization of Random Forest**\n",
        "\n"
      ]
    },
    {
      "cell_type": "code",
      "metadata": {
        "colab": {
          "base_uri": "https://localhost:8080/",
          "height": 204
        },
        "id": "4Tz6DTppY_g-",
        "outputId": "12f26d6a-5030-4aa1-fb82-3d7509e39975"
      },
      "source": [
        "df_s=pd.DataFrame(filtered_features_data,columns={'year','month','day','hour','SO2','NO2','O3','PRES','TEMP','CO','PM2.5','PM10','RAIN'})\n",
        "df_s.head()"
      ],
      "execution_count": null,
      "outputs": [
        {
          "output_type": "execute_result",
          "data": {
            "text/html": [
              "<div>\n",
              "<style scoped>\n",
              "    .dataframe tbody tr th:only-of-type {\n",
              "        vertical-align: middle;\n",
              "    }\n",
              "\n",
              "    .dataframe tbody tr th {\n",
              "        vertical-align: top;\n",
              "    }\n",
              "\n",
              "    .dataframe thead th {\n",
              "        text-align: right;\n",
              "    }\n",
              "</style>\n",
              "<table border=\"1\" class=\"dataframe\">\n",
              "  <thead>\n",
              "    <tr style=\"text-align: right;\">\n",
              "      <th></th>\n",
              "      <th>RAIN</th>\n",
              "      <th>PM2.5</th>\n",
              "      <th>PRES</th>\n",
              "      <th>O3</th>\n",
              "      <th>CO</th>\n",
              "      <th>TEMP</th>\n",
              "      <th>hour</th>\n",
              "      <th>year</th>\n",
              "      <th>SO2</th>\n",
              "      <th>day</th>\n",
              "      <th>NO2</th>\n",
              "      <th>month</th>\n",
              "      <th>PM10</th>\n",
              "    </tr>\n",
              "  </thead>\n",
              "  <tbody>\n",
              "    <tr>\n",
              "      <th>0</th>\n",
              "      <td>0.0</td>\n",
              "      <td>4.0</td>\n",
              "      <td>1020.8</td>\n",
              "      <td>82.0</td>\n",
              "      <td>200.0</td>\n",
              "      <td>-2.3</td>\n",
              "      <td>0</td>\n",
              "      <td>2013</td>\n",
              "      <td>3.0</td>\n",
              "      <td>1</td>\n",
              "      <td>2.0</td>\n",
              "      <td>3</td>\n",
              "      <td>4.0</td>\n",
              "    </tr>\n",
              "    <tr>\n",
              "      <th>1</th>\n",
              "      <td>0.0</td>\n",
              "      <td>7.0</td>\n",
              "      <td>1021.3</td>\n",
              "      <td>80.0</td>\n",
              "      <td>200.0</td>\n",
              "      <td>-2.5</td>\n",
              "      <td>1</td>\n",
              "      <td>2013</td>\n",
              "      <td>3.0</td>\n",
              "      <td>1</td>\n",
              "      <td>2.0</td>\n",
              "      <td>3</td>\n",
              "      <td>7.0</td>\n",
              "    </tr>\n",
              "    <tr>\n",
              "      <th>2</th>\n",
              "      <td>0.0</td>\n",
              "      <td>5.0</td>\n",
              "      <td>1021.3</td>\n",
              "      <td>79.0</td>\n",
              "      <td>200.0</td>\n",
              "      <td>-3.0</td>\n",
              "      <td>2</td>\n",
              "      <td>2013</td>\n",
              "      <td>3.0</td>\n",
              "      <td>1</td>\n",
              "      <td>2.0</td>\n",
              "      <td>3</td>\n",
              "      <td>5.0</td>\n",
              "    </tr>\n",
              "    <tr>\n",
              "      <th>3</th>\n",
              "      <td>0.0</td>\n",
              "      <td>6.0</td>\n",
              "      <td>1021.8</td>\n",
              "      <td>79.0</td>\n",
              "      <td>200.0</td>\n",
              "      <td>-3.6</td>\n",
              "      <td>3</td>\n",
              "      <td>2013</td>\n",
              "      <td>3.0</td>\n",
              "      <td>1</td>\n",
              "      <td>4.0</td>\n",
              "      <td>3</td>\n",
              "      <td>6.0</td>\n",
              "    </tr>\n",
              "    <tr>\n",
              "      <th>4</th>\n",
              "      <td>0.0</td>\n",
              "      <td>5.0</td>\n",
              "      <td>1022.3</td>\n",
              "      <td>81.0</td>\n",
              "      <td>200.0</td>\n",
              "      <td>-3.5</td>\n",
              "      <td>4</td>\n",
              "      <td>2013</td>\n",
              "      <td>3.0</td>\n",
              "      <td>1</td>\n",
              "      <td>4.0</td>\n",
              "      <td>3</td>\n",
              "      <td>5.0</td>\n",
              "    </tr>\n",
              "  </tbody>\n",
              "</table>\n",
              "</div>"
            ],
            "text/plain": [
              "   RAIN  PM2.5    PRES    O3     CO  TEMP  ...  year  SO2  day  NO2  month  PM10\n",
              "0   0.0    4.0  1020.8  82.0  200.0  -2.3  ...  2013  3.0    1  2.0      3   4.0\n",
              "1   0.0    7.0  1021.3  80.0  200.0  -2.5  ...  2013  3.0    1  2.0      3   7.0\n",
              "2   0.0    5.0  1021.3  79.0  200.0  -3.0  ...  2013  3.0    1  2.0      3   5.0\n",
              "3   0.0    6.0  1021.8  79.0  200.0  -3.6  ...  2013  3.0    1  4.0      3   6.0\n",
              "4   0.0    5.0  1022.3  81.0  200.0  -3.5  ...  2013  3.0    1  4.0      3   5.0\n",
              "\n",
              "[5 rows x 13 columns]"
            ]
          },
          "metadata": {
            "tags": []
          },
          "execution_count": 64
        }
      ]
    },
    {
      "cell_type": "code",
      "metadata": {
        "id": "69gXSrwpmcMi"
      },
      "source": [
        "x=pd.DataFrame(filtered_features_data,columns={'year','month','day','hour','SO2','NO2','O3','PRES','TEMP','CO','RAIN'})\n",
        "y=pd.DataFrame(filtered_features_data,columns={'PM2.5'})      "
      ],
      "execution_count": null,
      "outputs": []
    },
    {
      "cell_type": "code",
      "metadata": {
        "colab": {
          "base_uri": "https://localhost:8080/",
          "height": 391
        },
        "id": "5Tn_Vh0PmuiA",
        "outputId": "0627d820-1c73-4b19-954e-80eb351d0e38"
      },
      "source": [
        "x_train, x_test, y_train, y_test = train_test_split(x, y, test_size=0.3, random_state=0)\n",
        "x_train.head()\n",
        "y_train.head()"
      ],
      "execution_count": null,
      "outputs": [
        {
          "output_type": "execute_result",
          "data": {
            "text/html": [
              "<div>\n",
              "<style scoped>\n",
              "    .dataframe tbody tr th:only-of-type {\n",
              "        vertical-align: middle;\n",
              "    }\n",
              "\n",
              "    .dataframe tbody tr th {\n",
              "        vertical-align: top;\n",
              "    }\n",
              "\n",
              "    .dataframe thead th {\n",
              "        text-align: right;\n",
              "    }\n",
              "</style>\n",
              "<table border=\"1\" class=\"dataframe\">\n",
              "  <thead>\n",
              "    <tr style=\"text-align: right;\">\n",
              "      <th></th>\n",
              "      <th>RAIN</th>\n",
              "      <th>PRES</th>\n",
              "      <th>O3</th>\n",
              "      <th>CO</th>\n",
              "      <th>TEMP</th>\n",
              "      <th>hour</th>\n",
              "      <th>year</th>\n",
              "      <th>SO2</th>\n",
              "      <th>day</th>\n",
              "      <th>NO2</th>\n",
              "      <th>month</th>\n",
              "    </tr>\n",
              "  </thead>\n",
              "  <tbody>\n",
              "    <tr>\n",
              "      <th>22659</th>\n",
              "      <td>0.0</td>\n",
              "      <td>1001.9</td>\n",
              "      <td>55.0</td>\n",
              "      <td>300.0</td>\n",
              "      <td>14.7</td>\n",
              "      <td>3</td>\n",
              "      <td>2015</td>\n",
              "      <td>7.0</td>\n",
              "      <td>1</td>\n",
              "      <td>7.0</td>\n",
              "      <td>10</td>\n",
              "    </tr>\n",
              "    <tr>\n",
              "      <th>32150</th>\n",
              "      <td>0.0</td>\n",
              "      <td>1016.2</td>\n",
              "      <td>65.0</td>\n",
              "      <td>300.0</td>\n",
              "      <td>9.5</td>\n",
              "      <td>14</td>\n",
              "      <td>2016</td>\n",
              "      <td>4.0</td>\n",
              "      <td>30</td>\n",
              "      <td>9.0</td>\n",
              "      <td>10</td>\n",
              "    </tr>\n",
              "    <tr>\n",
              "      <th>16704</th>\n",
              "      <td>0.0</td>\n",
              "      <td>1014.0</td>\n",
              "      <td>2.0</td>\n",
              "      <td>2200.0</td>\n",
              "      <td>-2.0</td>\n",
              "      <td>0</td>\n",
              "      <td>2015</td>\n",
              "      <td>5.0</td>\n",
              "      <td>26</td>\n",
              "      <td>61.0</td>\n",
              "      <td>1</td>\n",
              "    </tr>\n",
              "    <tr>\n",
              "      <th>33702</th>\n",
              "      <td>0.0</td>\n",
              "      <td>1013.2</td>\n",
              "      <td>14.0</td>\n",
              "      <td>3300.0</td>\n",
              "      <td>-4.4</td>\n",
              "      <td>6</td>\n",
              "      <td>2017</td>\n",
              "      <td>12.0</td>\n",
              "      <td>3</td>\n",
              "      <td>57.0</td>\n",
              "      <td>1</td>\n",
              "    </tr>\n",
              "    <tr>\n",
              "      <th>17741</th>\n",
              "      <td>0.0</td>\n",
              "      <td>1025.9</td>\n",
              "      <td>66.0</td>\n",
              "      <td>400.0</td>\n",
              "      <td>-3.3</td>\n",
              "      <td>5</td>\n",
              "      <td>2015</td>\n",
              "      <td>19.0</td>\n",
              "      <td>10</td>\n",
              "      <td>9.0</td>\n",
              "      <td>3</td>\n",
              "    </tr>\n",
              "  </tbody>\n",
              "</table>\n",
              "</div>"
            ],
            "text/plain": [
              "       RAIN    PRES    O3      CO  TEMP  hour  year   SO2  day   NO2  month\n",
              "22659   0.0  1001.9  55.0   300.0  14.7     3  2015   7.0    1   7.0     10\n",
              "32150   0.0  1016.2  65.0   300.0   9.5    14  2016   4.0   30   9.0     10\n",
              "16704   0.0  1014.0   2.0  2200.0  -2.0     0  2015   5.0   26  61.0      1\n",
              "33702   0.0  1013.2  14.0  3300.0  -4.4     6  2017  12.0    3  57.0      1\n",
              "17741   0.0  1025.9  66.0   400.0  -3.3     5  2015  19.0   10   9.0      3"
            ]
          },
          "metadata": {
            "tags": []
          },
          "execution_count": 66
        },
        {
          "output_type": "execute_result",
          "data": {
            "text/html": [
              "<div>\n",
              "<style scoped>\n",
              "    .dataframe tbody tr th:only-of-type {\n",
              "        vertical-align: middle;\n",
              "    }\n",
              "\n",
              "    .dataframe tbody tr th {\n",
              "        vertical-align: top;\n",
              "    }\n",
              "\n",
              "    .dataframe thead th {\n",
              "        text-align: right;\n",
              "    }\n",
              "</style>\n",
              "<table border=\"1\" class=\"dataframe\">\n",
              "  <thead>\n",
              "    <tr style=\"text-align: right;\">\n",
              "      <th></th>\n",
              "      <th>PM2.5</th>\n",
              "    </tr>\n",
              "  </thead>\n",
              "  <tbody>\n",
              "    <tr>\n",
              "      <th>22659</th>\n",
              "      <td>3.0</td>\n",
              "    </tr>\n",
              "    <tr>\n",
              "      <th>32150</th>\n",
              "      <td>22.0</td>\n",
              "    </tr>\n",
              "    <tr>\n",
              "      <th>16704</th>\n",
              "      <td>172.0</td>\n",
              "    </tr>\n",
              "    <tr>\n",
              "      <th>33702</th>\n",
              "      <td>142.0</td>\n",
              "    </tr>\n",
              "    <tr>\n",
              "      <th>17741</th>\n",
              "      <td>5.0</td>\n",
              "    </tr>\n",
              "  </tbody>\n",
              "</table>\n",
              "</div>"
            ],
            "text/plain": [
              "       PM2.5\n",
              "22659    3.0\n",
              "32150   22.0\n",
              "16704  172.0\n",
              "33702  142.0\n",
              "17741    5.0"
            ]
          },
          "metadata": {
            "tags": []
          },
          "execution_count": 66
        }
      ]
    },
    {
      "cell_type": "code",
      "metadata": {
        "colab": {
          "base_uri": "https://localhost:8080/",
          "height": 204
        },
        "id": "2QcRjnq3oD4s",
        "outputId": "53cc58ee-73d5-4c21-a5ad-5670eb6c2a3a"
      },
      "source": [
        "y_test1=y_test.copy()\n",
        "y_test1=y_test1.reset_index()\n",
        "y_test2=pd.DataFrame(y_test1,columns={\"PM2.5\"})\n",
        "y_test2.head()"
      ],
      "execution_count": null,
      "outputs": [
        {
          "output_type": "execute_result",
          "data": {
            "text/html": [
              "<div>\n",
              "<style scoped>\n",
              "    .dataframe tbody tr th:only-of-type {\n",
              "        vertical-align: middle;\n",
              "    }\n",
              "\n",
              "    .dataframe tbody tr th {\n",
              "        vertical-align: top;\n",
              "    }\n",
              "\n",
              "    .dataframe thead th {\n",
              "        text-align: right;\n",
              "    }\n",
              "</style>\n",
              "<table border=\"1\" class=\"dataframe\">\n",
              "  <thead>\n",
              "    <tr style=\"text-align: right;\">\n",
              "      <th></th>\n",
              "      <th>PM2.5</th>\n",
              "    </tr>\n",
              "  </thead>\n",
              "  <tbody>\n",
              "    <tr>\n",
              "      <th>0</th>\n",
              "      <td>52.0</td>\n",
              "    </tr>\n",
              "    <tr>\n",
              "      <th>1</th>\n",
              "      <td>91.0</td>\n",
              "    </tr>\n",
              "    <tr>\n",
              "      <th>2</th>\n",
              "      <td>37.0</td>\n",
              "    </tr>\n",
              "    <tr>\n",
              "      <th>3</th>\n",
              "      <td>17.0</td>\n",
              "    </tr>\n",
              "    <tr>\n",
              "      <th>4</th>\n",
              "      <td>31.0</td>\n",
              "    </tr>\n",
              "  </tbody>\n",
              "</table>\n",
              "</div>"
            ],
            "text/plain": [
              "   PM2.5\n",
              "0   52.0\n",
              "1   91.0\n",
              "2   37.0\n",
              "3   17.0\n",
              "4   31.0"
            ]
          },
          "metadata": {
            "tags": []
          },
          "execution_count": 67
        }
      ]
    },
    {
      "cell_type": "markdown",
      "metadata": {
        "id": "rGFG4W-0unzA"
      },
      "source": [
        "# **Grid Search**"
      ]
    },
    {
      "cell_type": "code",
      "metadata": {
        "colab": {
          "base_uri": "https://localhost:8080/"
        },
        "id": "5St6lb9HZPU3",
        "outputId": "9eac67a7-c60a-428a-a987-5dab75646243"
      },
      "source": [
        "rf=RandomForestRegressor()\n",
        "rf.fit(x_train,y_train.values.ravel())"
      ],
      "execution_count": null,
      "outputs": [
        {
          "output_type": "execute_result",
          "data": {
            "text/plain": [
              "RandomForestRegressor(bootstrap=True, ccp_alpha=0.0, criterion='mse',\n",
              "                      max_depth=None, max_features='auto', max_leaf_nodes=None,\n",
              "                      max_samples=None, min_impurity_decrease=0.0,\n",
              "                      min_impurity_split=None, min_samples_leaf=1,\n",
              "                      min_samples_split=2, min_weight_fraction_leaf=0.0,\n",
              "                      n_estimators=100, n_jobs=None, oob_score=False,\n",
              "                      random_state=None, verbose=0, warm_start=False)"
            ]
          },
          "metadata": {
            "tags": []
          },
          "execution_count": 68
        }
      ]
    },
    {
      "cell_type": "code",
      "metadata": {
        "colab": {
          "base_uri": "https://localhost:8080/",
          "height": 204
        },
        "id": "BQESBUwum2tj",
        "outputId": "774b191b-89f1-4272-9a54-152918df827c"
      },
      "source": [
        "rf_prediction=rf.predict(x_test)\n",
        "rf_prediction_data=pd.DataFrame(rf_prediction,columns={\"Predicted_PM 2.5\"})\n",
        "rf_prediction_data.head()"
      ],
      "execution_count": null,
      "outputs": [
        {
          "output_type": "execute_result",
          "data": {
            "text/html": [
              "<div>\n",
              "<style scoped>\n",
              "    .dataframe tbody tr th:only-of-type {\n",
              "        vertical-align: middle;\n",
              "    }\n",
              "\n",
              "    .dataframe tbody tr th {\n",
              "        vertical-align: top;\n",
              "    }\n",
              "\n",
              "    .dataframe thead th {\n",
              "        text-align: right;\n",
              "    }\n",
              "</style>\n",
              "<table border=\"1\" class=\"dataframe\">\n",
              "  <thead>\n",
              "    <tr style=\"text-align: right;\">\n",
              "      <th></th>\n",
              "      <th>Predicted_PM 2.5</th>\n",
              "    </tr>\n",
              "  </thead>\n",
              "  <tbody>\n",
              "    <tr>\n",
              "      <th>0</th>\n",
              "      <td>35.26</td>\n",
              "    </tr>\n",
              "    <tr>\n",
              "      <th>1</th>\n",
              "      <td>76.62</td>\n",
              "    </tr>\n",
              "    <tr>\n",
              "      <th>2</th>\n",
              "      <td>49.25</td>\n",
              "    </tr>\n",
              "    <tr>\n",
              "      <th>3</th>\n",
              "      <td>15.46</td>\n",
              "    </tr>\n",
              "    <tr>\n",
              "      <th>4</th>\n",
              "      <td>35.39</td>\n",
              "    </tr>\n",
              "  </tbody>\n",
              "</table>\n",
              "</div>"
            ],
            "text/plain": [
              "   Predicted_PM 2.5\n",
              "0             35.26\n",
              "1             76.62\n",
              "2             49.25\n",
              "3             15.46\n",
              "4             35.39"
            ]
          },
          "metadata": {
            "tags": []
          },
          "execution_count": 69
        }
      ]
    },
    {
      "cell_type": "code",
      "metadata": {
        "colab": {
          "base_uri": "https://localhost:8080/",
          "height": 204
        },
        "id": "eK8tcnJZn52f",
        "outputId": "dbb3a27e-757b-4091-b386-1f5e8ac33761"
      },
      "source": [
        "df_row_merged_rf = pd.concat([y_test2,rf_prediction_data],axis=1)\n",
        "df_row_merged_rf.tail()"
      ],
      "execution_count": null,
      "outputs": [
        {
          "output_type": "execute_result",
          "data": {
            "text/html": [
              "<div>\n",
              "<style scoped>\n",
              "    .dataframe tbody tr th:only-of-type {\n",
              "        vertical-align: middle;\n",
              "    }\n",
              "\n",
              "    .dataframe tbody tr th {\n",
              "        vertical-align: top;\n",
              "    }\n",
              "\n",
              "    .dataframe thead th {\n",
              "        text-align: right;\n",
              "    }\n",
              "</style>\n",
              "<table border=\"1\" class=\"dataframe\">\n",
              "  <thead>\n",
              "    <tr style=\"text-align: right;\">\n",
              "      <th></th>\n",
              "      <th>PM2.5</th>\n",
              "      <th>Predicted_PM 2.5</th>\n",
              "    </tr>\n",
              "  </thead>\n",
              "  <tbody>\n",
              "    <tr>\n",
              "      <th>10515</th>\n",
              "      <td>132.0</td>\n",
              "      <td>134.060</td>\n",
              "    </tr>\n",
              "    <tr>\n",
              "      <th>10516</th>\n",
              "      <td>7.0</td>\n",
              "      <td>9.740</td>\n",
              "    </tr>\n",
              "    <tr>\n",
              "      <th>10517</th>\n",
              "      <td>12.0</td>\n",
              "      <td>14.280</td>\n",
              "    </tr>\n",
              "    <tr>\n",
              "      <th>10518</th>\n",
              "      <td>87.0</td>\n",
              "      <td>127.087</td>\n",
              "    </tr>\n",
              "    <tr>\n",
              "      <th>10519</th>\n",
              "      <td>27.0</td>\n",
              "      <td>67.160</td>\n",
              "    </tr>\n",
              "  </tbody>\n",
              "</table>\n",
              "</div>"
            ],
            "text/plain": [
              "       PM2.5  Predicted_PM 2.5\n",
              "10515  132.0           134.060\n",
              "10516    7.0             9.740\n",
              "10517   12.0            14.280\n",
              "10518   87.0           127.087\n",
              "10519   27.0            67.160"
            ]
          },
          "metadata": {
            "tags": []
          },
          "execution_count": 70
        }
      ]
    },
    {
      "cell_type": "code",
      "metadata": {
        "colab": {
          "base_uri": "https://localhost:8080/"
        },
        "id": "zPHcgpm2n5xS",
        "outputId": "056264de-faa1-420a-e00e-b786c8e93ce7"
      },
      "source": [
        "print(\"Coefficient of determination R^2 <-- on train set: {}\".format(rf.score(x_train, y_train)))"
      ],
      "execution_count": null,
      "outputs": [
        {
          "output_type": "stream",
          "text": [
            "Coefficient of determination R^2 <-- on train set: 0.9867899850640227\n"
          ],
          "name": "stdout"
        }
      ]
    },
    {
      "cell_type": "code",
      "metadata": {
        "colab": {
          "base_uri": "https://localhost:8080/"
        },
        "id": "97dtM4XNn5s9",
        "outputId": "513a14ed-39cd-4e7d-defa-4b186316a8be"
      },
      "source": [
        "print(\"Coefficient of determination R^2 <-- on train set: {}\".format(rf.score(x_test, y_test)))"
      ],
      "execution_count": null,
      "outputs": [
        {
          "output_type": "stream",
          "text": [
            "Coefficient of determination R^2 <-- on train set: 0.8907534458543563\n"
          ],
          "name": "stdout"
        }
      ]
    },
    {
      "cell_type": "code",
      "metadata": {
        "colab": {
          "base_uri": "https://localhost:8080/"
        },
        "id": "GDm7GGzRob6q",
        "outputId": "5946083f-f482-426b-c8e0-9c550b068d88"
      },
      "source": [
        "print('MAE:', metrics.mean_absolute_error(y_test, rf_prediction))\n",
        "print('MSE:', metrics.mean_squared_error(y_test, rf_prediction))\n",
        "print('RMSE:', np.sqrt(metrics.mean_squared_error(y_test, rf_prediction)))"
      ],
      "execution_count": null,
      "outputs": [
        {
          "output_type": "stream",
          "text": [
            "MAE: 13.470906558935361\n",
            "MSE: 573.8210856354563\n",
            "RMSE: 23.954562939771126\n"
          ],
          "name": "stdout"
        }
      ]
    },
    {
      "cell_type": "markdown",
      "metadata": {
        "id": "_97S0BNcuuS0"
      },
      "source": [
        "# **Random Search**"
      ]
    },
    {
      "cell_type": "code",
      "metadata": {
        "colab": {
          "base_uri": "https://localhost:8080/"
        },
        "id": "xGV5TUUetAit",
        "outputId": "8c8f8e1f-33e1-4150-ed14-466e268360d6"
      },
      "source": [
        "rf_random=RandomForestRegressor(n_estimators= 500, min_samples_split= 5, min_samples_leaf= 1, max_features= 'auto', max_depth= 30)\n",
        "rf_random.fit(x_train,y_train.values.ravel())"
      ],
      "execution_count": null,
      "outputs": [
        {
          "output_type": "execute_result",
          "data": {
            "text/plain": [
              "RandomForestRegressor(bootstrap=True, ccp_alpha=0.0, criterion='mse',\n",
              "                      max_depth=30, max_features='auto', max_leaf_nodes=None,\n",
              "                      max_samples=None, min_impurity_decrease=0.0,\n",
              "                      min_impurity_split=None, min_samples_leaf=1,\n",
              "                      min_samples_split=5, min_weight_fraction_leaf=0.0,\n",
              "                      n_estimators=500, n_jobs=None, oob_score=False,\n",
              "                      random_state=None, verbose=0, warm_start=False)"
            ]
          },
          "metadata": {
            "tags": []
          },
          "execution_count": 74
        }
      ]
    },
    {
      "cell_type": "code",
      "metadata": {
        "colab": {
          "base_uri": "https://localhost:8080/",
          "height": 204
        },
        "id": "-2I647Hyu9eH",
        "outputId": "1d0ae861-007e-4092-c79e-1b95e6114fb9"
      },
      "source": [
        "rf_random_prediction=rf_random.predict(x_test)\n",
        "rf_random_prediction_data=pd.DataFrame(rf_random_prediction,columns={\"Predicted_PM 2.5\"})\n",
        "rf_random_prediction_data.head()"
      ],
      "execution_count": null,
      "outputs": [
        {
          "output_type": "execute_result",
          "data": {
            "text/html": [
              "<div>\n",
              "<style scoped>\n",
              "    .dataframe tbody tr th:only-of-type {\n",
              "        vertical-align: middle;\n",
              "    }\n",
              "\n",
              "    .dataframe tbody tr th {\n",
              "        vertical-align: top;\n",
              "    }\n",
              "\n",
              "    .dataframe thead th {\n",
              "        text-align: right;\n",
              "    }\n",
              "</style>\n",
              "<table border=\"1\" class=\"dataframe\">\n",
              "  <thead>\n",
              "    <tr style=\"text-align: right;\">\n",
              "      <th></th>\n",
              "      <th>Predicted_PM 2.5</th>\n",
              "    </tr>\n",
              "  </thead>\n",
              "  <tbody>\n",
              "    <tr>\n",
              "      <th>0</th>\n",
              "      <td>37.552573</td>\n",
              "    </tr>\n",
              "    <tr>\n",
              "      <th>1</th>\n",
              "      <td>79.385098</td>\n",
              "    </tr>\n",
              "    <tr>\n",
              "      <th>2</th>\n",
              "      <td>50.558865</td>\n",
              "    </tr>\n",
              "    <tr>\n",
              "      <th>3</th>\n",
              "      <td>16.969124</td>\n",
              "    </tr>\n",
              "    <tr>\n",
              "      <th>4</th>\n",
              "      <td>35.241667</td>\n",
              "    </tr>\n",
              "  </tbody>\n",
              "</table>\n",
              "</div>"
            ],
            "text/plain": [
              "   Predicted_PM 2.5\n",
              "0         37.552573\n",
              "1         79.385098\n",
              "2         50.558865\n",
              "3         16.969124\n",
              "4         35.241667"
            ]
          },
          "metadata": {
            "tags": []
          },
          "execution_count": 75
        }
      ]
    },
    {
      "cell_type": "code",
      "metadata": {
        "colab": {
          "base_uri": "https://localhost:8080/",
          "height": 204
        },
        "id": "o607h6TbvM1x",
        "outputId": "62c9340f-80de-4cc3-f25a-3623b27300ca"
      },
      "source": [
        "df_row_merged_rf_random = pd.concat([y_test2,rf_random_prediction_data],axis=1)\n",
        "df_row_merged_rf_random.head()"
      ],
      "execution_count": null,
      "outputs": [
        {
          "output_type": "execute_result",
          "data": {
            "text/html": [
              "<div>\n",
              "<style scoped>\n",
              "    .dataframe tbody tr th:only-of-type {\n",
              "        vertical-align: middle;\n",
              "    }\n",
              "\n",
              "    .dataframe tbody tr th {\n",
              "        vertical-align: top;\n",
              "    }\n",
              "\n",
              "    .dataframe thead th {\n",
              "        text-align: right;\n",
              "    }\n",
              "</style>\n",
              "<table border=\"1\" class=\"dataframe\">\n",
              "  <thead>\n",
              "    <tr style=\"text-align: right;\">\n",
              "      <th></th>\n",
              "      <th>PM2.5</th>\n",
              "      <th>Predicted_PM 2.5</th>\n",
              "    </tr>\n",
              "  </thead>\n",
              "  <tbody>\n",
              "    <tr>\n",
              "      <th>0</th>\n",
              "      <td>52.0</td>\n",
              "      <td>37.552573</td>\n",
              "    </tr>\n",
              "    <tr>\n",
              "      <th>1</th>\n",
              "      <td>91.0</td>\n",
              "      <td>79.385098</td>\n",
              "    </tr>\n",
              "    <tr>\n",
              "      <th>2</th>\n",
              "      <td>37.0</td>\n",
              "      <td>50.558865</td>\n",
              "    </tr>\n",
              "    <tr>\n",
              "      <th>3</th>\n",
              "      <td>17.0</td>\n",
              "      <td>16.969124</td>\n",
              "    </tr>\n",
              "    <tr>\n",
              "      <th>4</th>\n",
              "      <td>31.0</td>\n",
              "      <td>35.241667</td>\n",
              "    </tr>\n",
              "  </tbody>\n",
              "</table>\n",
              "</div>"
            ],
            "text/plain": [
              "   PM2.5  Predicted_PM 2.5\n",
              "0   52.0         37.552573\n",
              "1   91.0         79.385098\n",
              "2   37.0         50.558865\n",
              "3   17.0         16.969124\n",
              "4   31.0         35.241667"
            ]
          },
          "metadata": {
            "tags": []
          },
          "execution_count": 76
        }
      ]
    },
    {
      "cell_type": "code",
      "metadata": {
        "colab": {
          "base_uri": "https://localhost:8080/"
        },
        "id": "A6AtYWtXvk57",
        "outputId": "d0bb4c2f-cc41-4f36-b956-7e6c4d0b0084"
      },
      "source": [
        "print('MAE:', metrics.mean_absolute_error(y_test, rf_random_prediction))\n",
        "print('MSE:', metrics.mean_squared_error(y_test, rf_random_prediction))\n",
        "print('RMSE:', np.sqrt(metrics.mean_squared_error(y_test, rf_random_prediction)))"
      ],
      "execution_count": null,
      "outputs": [
        {
          "output_type": "stream",
          "text": [
            "MAE: 13.595473314443938\n",
            "MSE: 589.5829863130884\n",
            "RMSE: 24.281329994732342\n"
          ],
          "name": "stdout"
        }
      ]
    },
    {
      "cell_type": "markdown",
      "metadata": {
        "id": "V6nGpxxJv0NC"
      },
      "source": [
        "# **XGBoost**"
      ]
    },
    {
      "cell_type": "code",
      "metadata": {
        "id": "iK7dVBG1vxN9"
      },
      "source": [
        "data_dmatrix = xgb.DMatrix(data=x,label=y)"
      ],
      "execution_count": null,
      "outputs": []
    },
    {
      "cell_type": "code",
      "metadata": {
        "id": "OFQgpx6dxAss"
      },
      "source": [
        "xg_reg = xgb.XGBRegressor()"
      ],
      "execution_count": null,
      "outputs": []
    },
    {
      "cell_type": "code",
      "metadata": {
        "colab": {
          "base_uri": "https://localhost:8080/"
        },
        "id": "EsFTonkLxCwY",
        "outputId": "42d6bd3f-1fe3-4c2f-f476-f5292bf2baec"
      },
      "source": [
        "xg_reg.fit(x_train,y_train)"
      ],
      "execution_count": null,
      "outputs": [
        {
          "output_type": "stream",
          "text": [
            "[12:09:45] WARNING: /workspace/src/objective/regression_obj.cu:152: reg:linear is now deprecated in favor of reg:squarederror.\n"
          ],
          "name": "stdout"
        },
        {
          "output_type": "execute_result",
          "data": {
            "text/plain": [
              "XGBRegressor(base_score=0.5, booster='gbtree', colsample_bylevel=1,\n",
              "             colsample_bynode=1, colsample_bytree=1, gamma=0,\n",
              "             importance_type='gain', learning_rate=0.1, max_delta_step=0,\n",
              "             max_depth=3, min_child_weight=1, missing=None, n_estimators=100,\n",
              "             n_jobs=1, nthread=None, objective='reg:linear', random_state=0,\n",
              "             reg_alpha=0, reg_lambda=1, scale_pos_weight=1, seed=None,\n",
              "             silent=None, subsample=1, verbosity=1)"
            ]
          },
          "metadata": {
            "tags": []
          },
          "execution_count": 80
        }
      ]
    },
    {
      "cell_type": "code",
      "metadata": {
        "id": "eLkXpgi9xEtg"
      },
      "source": [
        "preds = xg_reg.predict(x_test)"
      ],
      "execution_count": null,
      "outputs": []
    },
    {
      "cell_type": "code",
      "metadata": {
        "colab": {
          "base_uri": "https://localhost:8080/"
        },
        "id": "rXakpxDnxJVQ",
        "outputId": "2436f675-a188-41dd-fbf8-1c7718768fef"
      },
      "source": [
        "print(\"Coefficient of determination R^2 <-- on test set: {}\".format(xg_reg.score(x_test, y_test)))"
      ],
      "execution_count": null,
      "outputs": [
        {
          "output_type": "stream",
          "text": [
            "Coefficient of determination R^2 <-- on test set: 0.7705719563603628\n"
          ],
          "name": "stdout"
        }
      ]
    },
    {
      "cell_type": "code",
      "metadata": {
        "colab": {
          "base_uri": "https://localhost:8080/"
        },
        "id": "RkQA-pirxLtT",
        "outputId": "5e208b55-d2b2-4557-8181-43ba9ae0c83c"
      },
      "source": [
        "print(\"Coefficient of determination R^2 <-- on train set: {}\".format(xg_reg.score(x_train, y_train)))"
      ],
      "execution_count": null,
      "outputs": [
        {
          "output_type": "stream",
          "text": [
            "Coefficient of determination R^2 <-- on train set: 0.8073507704772458\n"
          ],
          "name": "stdout"
        }
      ]
    },
    {
      "cell_type": "code",
      "metadata": {
        "colab": {
          "base_uri": "https://localhost:8080/"
        },
        "id": "vGVc37jExNwk",
        "outputId": "ab5fe723-55b9-4d60-8276-a4d5f5ac185e"
      },
      "source": [
        "print('MAE:', metrics.mean_absolute_error(y_test, preds))\n",
        "print('MSE:', metrics.mean_squared_error(y_test, preds))\n",
        "print('RMSE:', np.sqrt(metrics.mean_squared_error(y_test, preds)))"
      ],
      "execution_count": null,
      "outputs": [
        {
          "output_type": "stream",
          "text": [
            "MAE: 21.550900548766208\n",
            "MSE: 1205.0782755216542\n",
            "RMSE: 34.71423736050749\n"
          ],
          "name": "stdout"
        }
      ]
    },
    {
      "cell_type": "code",
      "metadata": {
        "colab": {
          "base_uri": "https://localhost:8080/"
        },
        "id": "d3ciHjVcxQWa",
        "outputId": "efce166f-b178-434e-b1a5-03b79128fef1"
      },
      "source": [
        "scores = cross_val_score(xg_reg, x_train, y_train,cv=10)"
      ],
      "execution_count": null,
      "outputs": [
        {
          "output_type": "stream",
          "text": [
            "[12:09:46] WARNING: /workspace/src/objective/regression_obj.cu:152: reg:linear is now deprecated in favor of reg:squarederror.\n",
            "[12:09:47] WARNING: /workspace/src/objective/regression_obj.cu:152: reg:linear is now deprecated in favor of reg:squarederror.\n",
            "[12:09:48] WARNING: /workspace/src/objective/regression_obj.cu:152: reg:linear is now deprecated in favor of reg:squarederror.\n",
            "[12:09:49] WARNING: /workspace/src/objective/regression_obj.cu:152: reg:linear is now deprecated in favor of reg:squarederror.\n",
            "[12:09:50] WARNING: /workspace/src/objective/regression_obj.cu:152: reg:linear is now deprecated in favor of reg:squarederror.\n",
            "[12:09:51] WARNING: /workspace/src/objective/regression_obj.cu:152: reg:linear is now deprecated in favor of reg:squarederror.\n",
            "[12:09:53] WARNING: /workspace/src/objective/regression_obj.cu:152: reg:linear is now deprecated in favor of reg:squarederror.\n",
            "[12:09:54] WARNING: /workspace/src/objective/regression_obj.cu:152: reg:linear is now deprecated in favor of reg:squarederror.\n",
            "[12:09:55] WARNING: /workspace/src/objective/regression_obj.cu:152: reg:linear is now deprecated in favor of reg:squarederror.\n",
            "[12:09:56] WARNING: /workspace/src/objective/regression_obj.cu:152: reg:linear is now deprecated in favor of reg:squarederror.\n"
          ],
          "name": "stdout"
        }
      ]
    },
    {
      "cell_type": "code",
      "metadata": {
        "colab": {
          "base_uri": "https://localhost:8080/"
        },
        "id": "frV_gPRYyIsv",
        "outputId": "aee07398-6996-4274-b5b8-557c133f8908"
      },
      "source": [
        "kfold = KFold(n_splits=10, shuffle=True)\n",
        "kf_cv_scores = cross_val_score(xg_reg, x_train, y_train, cv=kfold )\n",
        "print(\"K-fold CV average score: %.2f\" % kf_cv_scores.mean())"
      ],
      "execution_count": null,
      "outputs": [
        {
          "output_type": "stream",
          "text": [
            "[12:09:57] WARNING: /workspace/src/objective/regression_obj.cu:152: reg:linear is now deprecated in favor of reg:squarederror.\n",
            "[12:09:58] WARNING: /workspace/src/objective/regression_obj.cu:152: reg:linear is now deprecated in favor of reg:squarederror.\n",
            "[12:09:59] WARNING: /workspace/src/objective/regression_obj.cu:152: reg:linear is now deprecated in favor of reg:squarederror.\n",
            "[12:10:00] WARNING: /workspace/src/objective/regression_obj.cu:152: reg:linear is now deprecated in favor of reg:squarederror.\n",
            "[12:10:01] WARNING: /workspace/src/objective/regression_obj.cu:152: reg:linear is now deprecated in favor of reg:squarederror.\n",
            "[12:10:02] WARNING: /workspace/src/objective/regression_obj.cu:152: reg:linear is now deprecated in favor of reg:squarederror.\n",
            "[12:10:03] WARNING: /workspace/src/objective/regression_obj.cu:152: reg:linear is now deprecated in favor of reg:squarederror.\n",
            "[12:10:05] WARNING: /workspace/src/objective/regression_obj.cu:152: reg:linear is now deprecated in favor of reg:squarederror.\n",
            "[12:10:06] WARNING: /workspace/src/objective/regression_obj.cu:152: reg:linear is now deprecated in favor of reg:squarederror.\n",
            "[12:10:07] WARNING: /workspace/src/objective/regression_obj.cu:152: reg:linear is now deprecated in favor of reg:squarederror.\n",
            "K-fold CV average score: 0.80\n"
          ],
          "name": "stdout"
        }
      ]
    },
    {
      "cell_type": "code",
      "metadata": {
        "id": "peU1DDkLyYLF"
      },
      "source": [
        "xgb_predict = xg_reg.predict(x_test)"
      ],
      "execution_count": null,
      "outputs": []
    },
    {
      "cell_type": "code",
      "metadata": {
        "colab": {
          "base_uri": "https://localhost:8080/"
        },
        "id": "59qXBgOqy4nn",
        "outputId": "90ffc0bf-01e5-4bf4-b9e1-956ad0a1b8a2"
      },
      "source": [
        "print('MAE:', metrics.mean_absolute_error(y_test, xgb_predict))\n",
        "print('MSE:', metrics.mean_squared_error(y_test, xgb_predict))\n",
        "print('RMSE:', np.sqrt(metrics.mean_squared_error(y_test, xgb_predict)))"
      ],
      "execution_count": null,
      "outputs": [
        {
          "output_type": "stream",
          "text": [
            "MAE: 21.550900548766208\n",
            "MSE: 1205.0782755216542\n",
            "RMSE: 34.71423736050749\n"
          ],
          "name": "stdout"
        }
      ]
    },
    {
      "cell_type": "code",
      "metadata": {
        "colab": {
          "base_uri": "https://localhost:8080/",
          "height": 52
        },
        "id": "8Ecr46L-y-Wg",
        "outputId": "d8db0773-2c62-400c-ccb7-b6bf06697ee9"
      },
      "source": [
        "'''x_ax = range(len(y_test))\n",
        "plt.figure(figsize=(20,10))\n",
        "plt.plot(x_ax, y_test, label=\"original\")\n",
        "plt.plot(x_ax, xgb_predict, label=\"predicted\")\n",
        "plt.title(\"Original and predicted data\")\n",
        "plt.legend()\n",
        "plt.show()'''"
      ],
      "execution_count": null,
      "outputs": [
        {
          "output_type": "execute_result",
          "data": {
            "application/vnd.google.colaboratory.intrinsic+json": {
              "type": "string"
            },
            "text/plain": [
              "'x_ax = range(len(y_test))\\nplt.figure(figsize=(20,10))\\nplt.plot(x_ax, y_test, label=\"original\")\\nplt.plot(x_ax, xgb_predict, label=\"predicted\")\\nplt.title(\"Original and predicted data\")\\nplt.legend()\\nplt.show()'"
            ]
          },
          "metadata": {
            "tags": []
          },
          "execution_count": 89
        }
      ]
    },
    {
      "cell_type": "markdown",
      "metadata": {
        "id": "eActVMnU0rtt"
      },
      "source": [
        "# **LSTM(RNN)**"
      ]
    },
    {
      "cell_type": "code",
      "metadata": {
        "id": "5mS33pX32omo"
      },
      "source": [
        "# convert series to supervised learning\n",
        "def series_to_supervised(data, n_in=1, n_out=1, dropnan=True):\n",
        "\tn_vars = 1 if type(data) is list else data.shape[1]\n",
        "\tdf = pd.DataFrame(data)\n",
        "\tcols, names = list(), list()\n",
        "\t# input sequence (t-n, ... t-1)\n",
        "\tfor i in range(n_in, 0, -1):\n",
        "\t\tcols.append(df.shift(i))\n",
        "\t\tnames += [('var%d(t-%d)' % (j+1, i)) for j in range(n_vars)]\n",
        "\t# forecast sequence (t, t+1, ... t+n)\n",
        "\tfor i in range(0, n_out):\n",
        "\t\tcols.append(df.shift(-i))\n",
        "\t\tif i == 0:\n",
        "\t\t\tnames += [('var%d(t)' % (j+1)) for j in range(n_vars)]\n",
        "\t\telse:\n",
        "\t\t\tnames += [('var%d(t+%d)' % (j+1, i)) for j in range(n_vars)]\n",
        "\t# put it all together\n",
        "\tagg = pd.concat(cols, axis=1)\n",
        "\tagg.columns = names\n",
        "\t# drop rows with NaN values\n",
        "\tif dropnan:\n",
        "\t\tagg.dropna(inplace=True)\n",
        "\treturn agg"
      ],
      "execution_count": null,
      "outputs": []
    },
    {
      "cell_type": "code",
      "metadata": {
        "colab": {
          "base_uri": "https://localhost:8080/"
        },
        "id": "Od8Tw_w-zWdU",
        "outputId": "5c5ef4ed-6b09-46fc-cbaf-5050ca9967e5"
      },
      "source": [
        "# load data\n",
        "def parse(x):\n",
        "\treturn datetime.strptime(x, '%Y %m %d %H')\n",
        "dataset = pd.read_csv('/content/drive/MyDrive/Colab Notebooks/Data.csv',  parse_dates = [['year', 'month', 'day', 'hour']], index_col=0, date_parser=parse)\n",
        "dataset.drop('No', axis=1, inplace=True)\n",
        "# manually specify column names\n",
        "dataset.columns = ['PM2.5', 'PM10', 'SO2', 'NO2', 'CO', 'O3', 'TEMP', 'PRES', 'DEWP', 'RAIN', 'wd', 'WSPM', 'station']\n",
        "dataset.index.name = 'date'\n",
        "# mark all NA values with 0\n",
        "dataset['PM2.5'].fillna(0, inplace=True)\n",
        "# drop the first 24 hours\n",
        "dataset = dataset[24:]\n",
        "# summarize first 5 rows\n",
        "print(dataset.head(5))\n",
        "# save to file\n",
        "dataset.to_csv('air_qulaity.csv')"
      ],
      "execution_count": null,
      "outputs": [
        {
          "output_type": "stream",
          "text": [
            "                     PM2.5  PM10   SO2   NO2  ...  RAIN   wd  WSPM   station\n",
            "date                                          ...                           \n",
            "2013-03-02 00:00:00    4.0   7.0   3.0   2.0  ...   0.0   SW   3.0  Dingling\n",
            "2013-03-02 01:00:00    6.0   6.0   3.0   2.0  ...   0.0  SSW   0.9  Dingling\n",
            "2013-03-02 02:00:00    7.0   2.0  13.0  39.0  ...   0.0  SSW   1.5  Dingling\n",
            "2013-03-02 03:00:00   28.0  47.0  21.0  71.0  ...   0.0   SW   1.7  Dingling\n",
            "2013-03-02 04:00:00   31.0  65.0  25.0  71.0  ...   0.0   NW   0.8  Dingling\n",
            "\n",
            "[5 rows x 13 columns]\n"
          ],
          "name": "stdout"
        }
      ]
    },
    {
      "cell_type": "code",
      "metadata": {
        "colab": {
          "base_uri": "https://localhost:8080/",
          "height": 235
        },
        "id": "o9BdLzgX10ol",
        "outputId": "59c13554-0295-4d8b-d471-21db2ed4aa62"
      },
      "source": [
        "# load dataset\n",
        "dataset = pd.read_csv('air_qulaity.csv', index_col=0)\n",
        "df=pd.DataFrame(dataset,columns={'SO2','NO2','O3','PRES','TEMP','CO','PM2.5','RAIN'})\n",
        "df.head()\n",
        "values = df.values"
      ],
      "execution_count": null,
      "outputs": [
        {
          "output_type": "execute_result",
          "data": {
            "text/html": [
              "<div>\n",
              "<style scoped>\n",
              "    .dataframe tbody tr th:only-of-type {\n",
              "        vertical-align: middle;\n",
              "    }\n",
              "\n",
              "    .dataframe tbody tr th {\n",
              "        vertical-align: top;\n",
              "    }\n",
              "\n",
              "    .dataframe thead th {\n",
              "        text-align: right;\n",
              "    }\n",
              "</style>\n",
              "<table border=\"1\" class=\"dataframe\">\n",
              "  <thead>\n",
              "    <tr style=\"text-align: right;\">\n",
              "      <th></th>\n",
              "      <th>RAIN</th>\n",
              "      <th>PM2.5</th>\n",
              "      <th>PRES</th>\n",
              "      <th>O3</th>\n",
              "      <th>CO</th>\n",
              "      <th>TEMP</th>\n",
              "      <th>SO2</th>\n",
              "      <th>NO2</th>\n",
              "    </tr>\n",
              "    <tr>\n",
              "      <th>date</th>\n",
              "      <th></th>\n",
              "      <th></th>\n",
              "      <th></th>\n",
              "      <th></th>\n",
              "      <th></th>\n",
              "      <th></th>\n",
              "      <th></th>\n",
              "      <th></th>\n",
              "    </tr>\n",
              "  </thead>\n",
              "  <tbody>\n",
              "    <tr>\n",
              "      <th>2013-03-02 00:00:00</th>\n",
              "      <td>0.0</td>\n",
              "      <td>4.0</td>\n",
              "      <td>1027.4</td>\n",
              "      <td>74.0</td>\n",
              "      <td>200.0</td>\n",
              "      <td>-0.5</td>\n",
              "      <td>3.0</td>\n",
              "      <td>2.0</td>\n",
              "    </tr>\n",
              "    <tr>\n",
              "      <th>2013-03-02 01:00:00</th>\n",
              "      <td>0.0</td>\n",
              "      <td>6.0</td>\n",
              "      <td>1027.9</td>\n",
              "      <td>75.0</td>\n",
              "      <td>200.0</td>\n",
              "      <td>-1.8</td>\n",
              "      <td>3.0</td>\n",
              "      <td>2.0</td>\n",
              "    </tr>\n",
              "    <tr>\n",
              "      <th>2013-03-02 02:00:00</th>\n",
              "      <td>0.0</td>\n",
              "      <td>7.0</td>\n",
              "      <td>1027.7</td>\n",
              "      <td>36.0</td>\n",
              "      <td>800.0</td>\n",
              "      <td>-1.7</td>\n",
              "      <td>13.0</td>\n",
              "      <td>39.0</td>\n",
              "    </tr>\n",
              "    <tr>\n",
              "      <th>2013-03-02 03:00:00</th>\n",
              "      <td>0.0</td>\n",
              "      <td>28.0</td>\n",
              "      <td>1027.7</td>\n",
              "      <td>6.0</td>\n",
              "      <td>1200.0</td>\n",
              "      <td>-2.5</td>\n",
              "      <td>21.0</td>\n",
              "      <td>71.0</td>\n",
              "    </tr>\n",
              "    <tr>\n",
              "      <th>2013-03-02 04:00:00</th>\n",
              "      <td>0.0</td>\n",
              "      <td>31.0</td>\n",
              "      <td>1027.5</td>\n",
              "      <td>5.0</td>\n",
              "      <td>1200.0</td>\n",
              "      <td>-3.4</td>\n",
              "      <td>25.0</td>\n",
              "      <td>71.0</td>\n",
              "    </tr>\n",
              "  </tbody>\n",
              "</table>\n",
              "</div>"
            ],
            "text/plain": [
              "                     RAIN  PM2.5    PRES    O3      CO  TEMP   SO2   NO2\n",
              "date                                                                    \n",
              "2013-03-02 00:00:00   0.0    4.0  1027.4  74.0   200.0  -0.5   3.0   2.0\n",
              "2013-03-02 01:00:00   0.0    6.0  1027.9  75.0   200.0  -1.8   3.0   2.0\n",
              "2013-03-02 02:00:00   0.0    7.0  1027.7  36.0   800.0  -1.7  13.0  39.0\n",
              "2013-03-02 03:00:00   0.0   28.0  1027.7   6.0  1200.0  -2.5  21.0  71.0\n",
              "2013-03-02 04:00:00   0.0   31.0  1027.5   5.0  1200.0  -3.4  25.0  71.0"
            ]
          },
          "metadata": {
            "tags": []
          },
          "execution_count": 102
        }
      ]
    },
    {
      "cell_type": "code",
      "metadata": {
        "colab": {
          "base_uri": "https://localhost:8080/"
        },
        "id": "YPksAGoq2EVD",
        "outputId": "4cbabaed-3aec-422f-870e-94a7afe4573d"
      },
      "source": [
        "# integer encode direction\n",
        "encoder = LabelEncoder()\n",
        "values[:,4] = encoder.fit_transform(values[:,4])\n",
        "# ensure all data is float\n",
        "values = values.astype('float32')\n",
        "# normalize features\n",
        "scaler = MinMaxScaler(feature_range=(0, 1))\n",
        "scaled = scaler.fit_transform(values)\n",
        "# frame as supervised learning\n",
        "reframed = series_to_supervised(scaled, 1, 1)\n",
        "# drop columns we don't want to predict\n",
        "reframed.drop(reframed.columns[[9,10,11,12,13,14,15]], axis=1, inplace=True)\n",
        "print(reframed.head())"
      ],
      "execution_count": null,
      "outputs": [
        {
          "output_type": "stream",
          "text": [
            "   var1(t-1)  var2(t-1)  var3(t-1)  ...  var7(t-1)  var8(t-1)  var1(t)\n",
            "1        0.0   0.004540   0.831793  ...   0.017432   0.004773      0.0\n",
            "2        0.0   0.006810   0.841036  ...   0.017432   0.004773      0.0\n",
            "3        0.0   0.007946   0.837337  ...   0.081652   0.186169      0.0\n",
            "4        0.0   0.031782   0.837337  ...   0.133028   0.343052      0.0\n",
            "5        0.0   0.035187   0.833641  ...   0.158716   0.343052      0.0\n",
            "\n",
            "[5 rows x 9 columns]\n"
          ],
          "name": "stdout"
        }
      ]
    },
    {
      "cell_type": "code",
      "metadata": {
        "colab": {
          "base_uri": "https://localhost:8080/"
        },
        "id": "TKIgLzYd2aHs",
        "outputId": "52f55ec8-9cbe-4522-c452-9f4b93d7b4e4"
      },
      "source": [
        "# split into train and test sets\n",
        "values = reframed.values\n",
        "n_train_hours = 365 * 24\n",
        "train = values[:n_train_hours, :]\n",
        "test = values[n_train_hours:, :]\n",
        "# split into input and outputs\n",
        "train_X, train_y = train[:, :-1], train[:, -1]\n",
        "test_X, test_y = test[:, :-1], test[:, -1]\n",
        "# reshape input to be 3D [samples, timesteps, features]\n",
        "train_X = train_X.reshape((train_X.shape[0], 1, train_X.shape[1]))\n",
        "test_X = test_X.reshape((test_X.shape[0], 1, test_X.shape[1]))\n",
        "print(train_X.shape, train_y.shape, test_X.shape, test_y.shape)"
      ],
      "execution_count": null,
      "outputs": [
        {
          "output_type": "stream",
          "text": [
            "(8760, 1, 8) (8760,) (23552, 1, 8) (23552,)\n"
          ],
          "name": "stdout"
        }
      ]
    },
    {
      "cell_type": "code",
      "metadata": {
        "colab": {
          "base_uri": "https://localhost:8080/",
          "height": 1000
        },
        "id": "wJN5-uQL3JIT",
        "outputId": "1feba1df-07eb-4dfe-f734-5dbbd916406a"
      },
      "source": [
        "# design network\n",
        "model = Sequential()\n",
        "model.add(LSTM(50, input_shape=(train_X.shape[1], train_X.shape[2])))\n",
        "model.add(Dense(1))\n",
        "model.compile(loss='mae', optimizer='adam')\n",
        "# fit network\n",
        "history = model.fit(train_X, train_y, epochs=50, batch_size=72, validation_data=(test_X, test_y), verbose=2, shuffle=False)\n",
        "# plot history\n",
        "plt.plot(history.history['loss'], label='train')\n",
        "plt.plot(history.history['val_loss'], label='test')\n",
        "plt.legend()\n",
        "plt.show()"
      ],
      "execution_count": null,
      "outputs": [
        {
          "output_type": "stream",
          "text": [
            "Epoch 1/50\n",
            "122/122 - 2s - loss: 0.0067 - val_loss: 0.0030\n",
            "Epoch 2/50\n",
            "122/122 - 1s - loss: 0.0024 - val_loss: 0.0020\n",
            "Epoch 3/50\n",
            "122/122 - 1s - loss: 0.0018 - val_loss: 0.0027\n",
            "Epoch 4/50\n",
            "122/122 - 1s - loss: 0.0018 - val_loss: 0.0031\n",
            "Epoch 5/50\n",
            "122/122 - 1s - loss: 0.0016 - val_loss: 0.0019\n",
            "Epoch 6/50\n",
            "122/122 - 0s - loss: 0.0023 - val_loss: 0.0029\n",
            "Epoch 7/50\n",
            "122/122 - 1s - loss: 0.0019 - val_loss: 0.0024\n",
            "Epoch 8/50\n",
            "122/122 - 1s - loss: 0.0020 - val_loss: 0.0021\n",
            "Epoch 9/50\n",
            "122/122 - 1s - loss: 0.0017 - val_loss: 0.0019\n",
            "Epoch 10/50\n",
            "122/122 - 0s - loss: 0.0017 - val_loss: 0.0019\n",
            "Epoch 11/50\n",
            "122/122 - 1s - loss: 0.0015 - val_loss: 0.0016\n",
            "Epoch 12/50\n",
            "122/122 - 0s - loss: 0.0016 - val_loss: 0.0018\n",
            "Epoch 13/50\n",
            "122/122 - 1s - loss: 0.0019 - val_loss: 0.0022\n",
            "Epoch 14/50\n",
            "122/122 - 1s - loss: 0.0021 - val_loss: 0.0026\n",
            "Epoch 15/50\n",
            "122/122 - 1s - loss: 0.0017 - val_loss: 0.0016\n",
            "Epoch 16/50\n",
            "122/122 - 1s - loss: 0.0020 - val_loss: 0.0029\n",
            "Epoch 17/50\n",
            "122/122 - 1s - loss: 0.0024 - val_loss: 0.0016\n",
            "Epoch 18/50\n",
            "122/122 - 1s - loss: 0.0016 - val_loss: 0.0019\n",
            "Epoch 19/50\n",
            "122/122 - 1s - loss: 0.0016 - val_loss: 0.0019\n",
            "Epoch 20/50\n",
            "122/122 - 1s - loss: 0.0018 - val_loss: 0.0021\n",
            "Epoch 21/50\n",
            "122/122 - 1s - loss: 0.0017 - val_loss: 0.0018\n",
            "Epoch 22/50\n",
            "122/122 - 1s - loss: 0.0014 - val_loss: 0.0016\n",
            "Epoch 23/50\n",
            "122/122 - 1s - loss: 0.0018 - val_loss: 0.0021\n",
            "Epoch 24/50\n",
            "122/122 - 1s - loss: 0.0016 - val_loss: 0.0018\n",
            "Epoch 25/50\n",
            "122/122 - 1s - loss: 0.0016 - val_loss: 0.0019\n",
            "Epoch 26/50\n",
            "122/122 - 1s - loss: 0.0020 - val_loss: 0.0029\n",
            "Epoch 27/50\n",
            "122/122 - 1s - loss: 0.0016 - val_loss: 0.0014\n",
            "Epoch 28/50\n",
            "122/122 - 1s - loss: 0.0018 - val_loss: 0.0018\n",
            "Epoch 29/50\n",
            "122/122 - 1s - loss: 0.0015 - val_loss: 0.0015\n",
            "Epoch 30/50\n",
            "122/122 - 1s - loss: 0.0017 - val_loss: 0.0020\n",
            "Epoch 31/50\n",
            "122/122 - 1s - loss: 0.0015 - val_loss: 0.0025\n",
            "Epoch 32/50\n",
            "122/122 - 1s - loss: 0.0017 - val_loss: 0.0016\n",
            "Epoch 33/50\n",
            "122/122 - 1s - loss: 0.0014 - val_loss: 0.0019\n",
            "Epoch 34/50\n",
            "122/122 - 1s - loss: 0.0017 - val_loss: 0.0022\n",
            "Epoch 35/50\n",
            "122/122 - 1s - loss: 0.0016 - val_loss: 0.0021\n",
            "Epoch 36/50\n",
            "122/122 - 0s - loss: 0.0017 - val_loss: 0.0017\n",
            "Epoch 37/50\n",
            "122/122 - 1s - loss: 0.0018 - val_loss: 0.0017\n",
            "Epoch 38/50\n",
            "122/122 - 1s - loss: 0.0014 - val_loss: 0.0016\n",
            "Epoch 39/50\n",
            "122/122 - 1s - loss: 0.0014 - val_loss: 0.0017\n",
            "Epoch 40/50\n",
            "122/122 - 1s - loss: 0.0017 - val_loss: 0.0021\n",
            "Epoch 41/50\n",
            "122/122 - 1s - loss: 0.0014 - val_loss: 0.0016\n",
            "Epoch 42/50\n",
            "122/122 - 1s - loss: 0.0016 - val_loss: 0.0018\n",
            "Epoch 43/50\n",
            "122/122 - 1s - loss: 0.0018 - val_loss: 0.0019\n",
            "Epoch 44/50\n",
            "122/122 - 0s - loss: 0.0021 - val_loss: 0.0025\n",
            "Epoch 45/50\n",
            "122/122 - 1s - loss: 0.0016 - val_loss: 0.0017\n",
            "Epoch 46/50\n",
            "122/122 - 0s - loss: 0.0015 - val_loss: 0.0018\n",
            "Epoch 47/50\n",
            "122/122 - 1s - loss: 0.0014 - val_loss: 0.0018\n",
            "Epoch 48/50\n",
            "122/122 - 1s - loss: 0.0015 - val_loss: 0.0024\n",
            "Epoch 49/50\n",
            "122/122 - 1s - loss: 0.0015 - val_loss: 0.0013\n",
            "Epoch 50/50\n",
            "122/122 - 1s - loss: 0.0016 - val_loss: 0.0015\n"
          ],
          "name": "stdout"
        },
        {
          "output_type": "execute_result",
          "data": {
            "text/plain": [
              "[<matplotlib.lines.Line2D at 0x7fd905094450>]"
            ]
          },
          "metadata": {
            "tags": []
          },
          "execution_count": 105
        },
        {
          "output_type": "execute_result",
          "data": {
            "text/plain": [
              "[<matplotlib.lines.Line2D at 0x7fd905094990>]"
            ]
          },
          "metadata": {
            "tags": []
          },
          "execution_count": 105
        },
        {
          "output_type": "execute_result",
          "data": {
            "text/plain": [
              "<matplotlib.legend.Legend at 0x7fd905066850>"
            ]
          },
          "metadata": {
            "tags": []
          },
          "execution_count": 105
        },
        {
          "output_type": "display_data",
          "data": {
            "image/png": "[encoded data removed]",
            "text/plain": [
              "<Figure size 432x288 with 1 Axes>"
            ]
          },
          "metadata": {
            "tags": [],
            "needs_background": "light"
          }
        }
      ]
    },
    {
      "cell_type": "code",
      "metadata": {
        "id": "I37qKrCa3PUb"
      },
      "source": [
        "# make a prediction\n",
        "yhat = model.predict(test_X)\n",
        "test_X = test_X.reshape((test_X.shape[0], test_X.shape[2]))\n",
        "# invert scaling for forecast\n",
        "inv_yhat = np.concatenate((yhat, test_X[:, 1:]), axis=1)\n",
        "inv_yhat = scaler.inverse_transform(inv_yhat)\n",
        "inv_yhat = inv_yhat[:,0]\n",
        "# invert scaling for actual\n",
        "test_y = test_y.reshape((len(test_y), 1))\n",
        "inv_y = np.concatenate((test_y, test_X[:, 1:]), axis=1)\n",
        "inv_y = scaler.inverse_transform(inv_y)\n",
        "inv_y = inv_y[:,0]\n"
      ],
      "execution_count": null,
      "outputs": []
    },
    {
      "cell_type": "code",
      "metadata": {
        "colab": {
          "base_uri": "https://localhost:8080/"
        },
        "id": "eFHICpZ-3hTP",
        "outputId": "a416e597-53a2-4649-8a03-fbef66741ea6"
      },
      "source": [
        "print('MAE:', metrics.mean_absolute_error(inv_y, inv_yhat))\n",
        "print('MSE:', metrics.mean_squared_error(inv_y, inv_yhat))\n",
        "print('RMSE:', np.sqrt(metrics.mean_squared_error(inv_y, inv_yhat)))"
      ],
      "execution_count": null,
      "outputs": [
        {
          "output_type": "stream",
          "text": [
            "MAE: 0.07817528\n",
            "MSE: 0.60284686\n",
            "RMSE: 0.77643216\n"
          ],
          "name": "stdout"
        }
      ]
    },
    {
      "cell_type": "code",
      "metadata": {
        "id": "-Gyvxt1J3yLP"
      },
      "source": [
        ""
      ],
      "execution_count": null,
      "outputs": []
    }
  ]
}